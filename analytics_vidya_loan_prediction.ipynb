{
  "nbformat": 4,
  "nbformat_minor": 0,
  "metadata": {
    "colab": {
      "name": "analytics_vidya_loan_prediction.ipynb",
      "provenance": [],
      "collapsed_sections": [],
      "authorship_tag": "ABX9TyOo+sq6R31H/4Tk2O060YKN",
      "include_colab_link": true
    },
    "kernelspec": {
      "name": "python3",
      "display_name": "Python 3"
    }
  },
  "cells": [
    {
      "cell_type": "markdown",
      "metadata": {
        "id": "view-in-github",
        "colab_type": "text"
      },
      "source": [
        "<a href=\"https://colab.research.google.com/github/srinivas365/Analytics_Vidya_loan_prediction/blob/master/analytics_vidya_loan_prediction.ipynb\" target=\"_parent\"><img src=\"https://colab.research.google.com/assets/colab-badge.svg\" alt=\"Open In Colab\"/></a>"
      ]
    },
    {
      "cell_type": "code",
      "metadata": {
        "id": "ICmQsdGLit8D",
        "colab_type": "code",
        "colab": {}
      },
      "source": [
        "import numpy as np\n",
        "import pandas as pd\n",
        "import matplotlib.pyplot as plt\n",
        "import seaborn as sns"
      ],
      "execution_count": 0,
      "outputs": []
    },
    {
      "cell_type": "code",
      "metadata": {
        "id": "PV4LRHdjsdD2",
        "colab_type": "code",
        "colab": {}
      },
      "source": [
        "raw_train=pd.read_csv('train.csv')\n",
        "raw_test=pd.read_csv('test.csv')\n",
        "sub=pd.read_csv('sample_submission.csv')"
      ],
      "execution_count": 0,
      "outputs": []
    },
    {
      "cell_type": "code",
      "metadata": {
        "id": "aMmw2yeQsmVY",
        "colab_type": "code",
        "outputId": "795ab101-96f0-4f1c-9888-3a8c5550a27f",
        "colab": {
          "base_uri": "https://localhost:8080/",
          "height": 241
        }
      },
      "source": [
        "raw_train.head()"
      ],
      "execution_count": 0,
      "outputs": [
        {
          "output_type": "execute_result",
          "data": {
            "text/html": [
              "<div>\n",
              "<style scoped>\n",
              "    .dataframe tbody tr th:only-of-type {\n",
              "        vertical-align: middle;\n",
              "    }\n",
              "\n",
              "    .dataframe tbody tr th {\n",
              "        vertical-align: top;\n",
              "    }\n",
              "\n",
              "    .dataframe thead th {\n",
              "        text-align: right;\n",
              "    }\n",
              "</style>\n",
              "<table border=\"1\" class=\"dataframe\">\n",
              "  <thead>\n",
              "    <tr style=\"text-align: right;\">\n",
              "      <th></th>\n",
              "      <th>Loan_ID</th>\n",
              "      <th>Gender</th>\n",
              "      <th>Married</th>\n",
              "      <th>Dependents</th>\n",
              "      <th>Education</th>\n",
              "      <th>Self_Employed</th>\n",
              "      <th>ApplicantIncome</th>\n",
              "      <th>CoapplicantIncome</th>\n",
              "      <th>LoanAmount</th>\n",
              "      <th>Loan_Amount_Term</th>\n",
              "      <th>Credit_History</th>\n",
              "      <th>Property_Area</th>\n",
              "      <th>Loan_Status</th>\n",
              "    </tr>\n",
              "  </thead>\n",
              "  <tbody>\n",
              "    <tr>\n",
              "      <th>0</th>\n",
              "      <td>LP001002</td>\n",
              "      <td>Male</td>\n",
              "      <td>No</td>\n",
              "      <td>0</td>\n",
              "      <td>Graduate</td>\n",
              "      <td>No</td>\n",
              "      <td>5849</td>\n",
              "      <td>0.0</td>\n",
              "      <td>NaN</td>\n",
              "      <td>360.0</td>\n",
              "      <td>1.0</td>\n",
              "      <td>Urban</td>\n",
              "      <td>Y</td>\n",
              "    </tr>\n",
              "    <tr>\n",
              "      <th>1</th>\n",
              "      <td>LP001003</td>\n",
              "      <td>Male</td>\n",
              "      <td>Yes</td>\n",
              "      <td>1</td>\n",
              "      <td>Graduate</td>\n",
              "      <td>No</td>\n",
              "      <td>4583</td>\n",
              "      <td>1508.0</td>\n",
              "      <td>128.0</td>\n",
              "      <td>360.0</td>\n",
              "      <td>1.0</td>\n",
              "      <td>Rural</td>\n",
              "      <td>N</td>\n",
              "    </tr>\n",
              "    <tr>\n",
              "      <th>2</th>\n",
              "      <td>LP001005</td>\n",
              "      <td>Male</td>\n",
              "      <td>Yes</td>\n",
              "      <td>0</td>\n",
              "      <td>Graduate</td>\n",
              "      <td>Yes</td>\n",
              "      <td>3000</td>\n",
              "      <td>0.0</td>\n",
              "      <td>66.0</td>\n",
              "      <td>360.0</td>\n",
              "      <td>1.0</td>\n",
              "      <td>Urban</td>\n",
              "      <td>Y</td>\n",
              "    </tr>\n",
              "    <tr>\n",
              "      <th>3</th>\n",
              "      <td>LP001006</td>\n",
              "      <td>Male</td>\n",
              "      <td>Yes</td>\n",
              "      <td>0</td>\n",
              "      <td>Not Graduate</td>\n",
              "      <td>No</td>\n",
              "      <td>2583</td>\n",
              "      <td>2358.0</td>\n",
              "      <td>120.0</td>\n",
              "      <td>360.0</td>\n",
              "      <td>1.0</td>\n",
              "      <td>Urban</td>\n",
              "      <td>Y</td>\n",
              "    </tr>\n",
              "    <tr>\n",
              "      <th>4</th>\n",
              "      <td>LP001008</td>\n",
              "      <td>Male</td>\n",
              "      <td>No</td>\n",
              "      <td>0</td>\n",
              "      <td>Graduate</td>\n",
              "      <td>No</td>\n",
              "      <td>6000</td>\n",
              "      <td>0.0</td>\n",
              "      <td>141.0</td>\n",
              "      <td>360.0</td>\n",
              "      <td>1.0</td>\n",
              "      <td>Urban</td>\n",
              "      <td>Y</td>\n",
              "    </tr>\n",
              "  </tbody>\n",
              "</table>\n",
              "</div>"
            ],
            "text/plain": [
              "    Loan_ID Gender Married  ... Credit_History Property_Area Loan_Status\n",
              "0  LP001002   Male      No  ...            1.0         Urban           Y\n",
              "1  LP001003   Male     Yes  ...            1.0         Rural           N\n",
              "2  LP001005   Male     Yes  ...            1.0         Urban           Y\n",
              "3  LP001006   Male     Yes  ...            1.0         Urban           Y\n",
              "4  LP001008   Male      No  ...            1.0         Urban           Y\n",
              "\n",
              "[5 rows x 13 columns]"
            ]
          },
          "metadata": {
            "tags": []
          },
          "execution_count": 92
        }
      ]
    },
    {
      "cell_type": "code",
      "metadata": {
        "id": "ymftLYrw90e3",
        "colab_type": "code",
        "outputId": "4b7738b0-8085-4ee5-a51b-6d9e2d0a3cf2",
        "colab": {
          "base_uri": "https://localhost:8080/",
          "height": 241
        }
      },
      "source": [
        "raw_test.head()"
      ],
      "execution_count": 0,
      "outputs": [
        {
          "output_type": "execute_result",
          "data": {
            "text/html": [
              "<div>\n",
              "<style scoped>\n",
              "    .dataframe tbody tr th:only-of-type {\n",
              "        vertical-align: middle;\n",
              "    }\n",
              "\n",
              "    .dataframe tbody tr th {\n",
              "        vertical-align: top;\n",
              "    }\n",
              "\n",
              "    .dataframe thead th {\n",
              "        text-align: right;\n",
              "    }\n",
              "</style>\n",
              "<table border=\"1\" class=\"dataframe\">\n",
              "  <thead>\n",
              "    <tr style=\"text-align: right;\">\n",
              "      <th></th>\n",
              "      <th>Loan_ID</th>\n",
              "      <th>Gender</th>\n",
              "      <th>Married</th>\n",
              "      <th>Dependents</th>\n",
              "      <th>Education</th>\n",
              "      <th>Self_Employed</th>\n",
              "      <th>ApplicantIncome</th>\n",
              "      <th>CoapplicantIncome</th>\n",
              "      <th>LoanAmount</th>\n",
              "      <th>Loan_Amount_Term</th>\n",
              "      <th>Credit_History</th>\n",
              "      <th>Property_Area</th>\n",
              "    </tr>\n",
              "  </thead>\n",
              "  <tbody>\n",
              "    <tr>\n",
              "      <th>0</th>\n",
              "      <td>LP001015</td>\n",
              "      <td>Male</td>\n",
              "      <td>Yes</td>\n",
              "      <td>0</td>\n",
              "      <td>Graduate</td>\n",
              "      <td>No</td>\n",
              "      <td>5720</td>\n",
              "      <td>0</td>\n",
              "      <td>110.0</td>\n",
              "      <td>360.0</td>\n",
              "      <td>1.0</td>\n",
              "      <td>Urban</td>\n",
              "    </tr>\n",
              "    <tr>\n",
              "      <th>1</th>\n",
              "      <td>LP001022</td>\n",
              "      <td>Male</td>\n",
              "      <td>Yes</td>\n",
              "      <td>1</td>\n",
              "      <td>Graduate</td>\n",
              "      <td>No</td>\n",
              "      <td>3076</td>\n",
              "      <td>1500</td>\n",
              "      <td>126.0</td>\n",
              "      <td>360.0</td>\n",
              "      <td>1.0</td>\n",
              "      <td>Urban</td>\n",
              "    </tr>\n",
              "    <tr>\n",
              "      <th>2</th>\n",
              "      <td>LP001031</td>\n",
              "      <td>Male</td>\n",
              "      <td>Yes</td>\n",
              "      <td>2</td>\n",
              "      <td>Graduate</td>\n",
              "      <td>No</td>\n",
              "      <td>5000</td>\n",
              "      <td>1800</td>\n",
              "      <td>208.0</td>\n",
              "      <td>360.0</td>\n",
              "      <td>1.0</td>\n",
              "      <td>Urban</td>\n",
              "    </tr>\n",
              "    <tr>\n",
              "      <th>3</th>\n",
              "      <td>LP001035</td>\n",
              "      <td>Male</td>\n",
              "      <td>Yes</td>\n",
              "      <td>2</td>\n",
              "      <td>Graduate</td>\n",
              "      <td>No</td>\n",
              "      <td>2340</td>\n",
              "      <td>2546</td>\n",
              "      <td>100.0</td>\n",
              "      <td>360.0</td>\n",
              "      <td>NaN</td>\n",
              "      <td>Urban</td>\n",
              "    </tr>\n",
              "    <tr>\n",
              "      <th>4</th>\n",
              "      <td>LP001051</td>\n",
              "      <td>Male</td>\n",
              "      <td>No</td>\n",
              "      <td>0</td>\n",
              "      <td>Not Graduate</td>\n",
              "      <td>No</td>\n",
              "      <td>3276</td>\n",
              "      <td>0</td>\n",
              "      <td>78.0</td>\n",
              "      <td>360.0</td>\n",
              "      <td>1.0</td>\n",
              "      <td>Urban</td>\n",
              "    </tr>\n",
              "  </tbody>\n",
              "</table>\n",
              "</div>"
            ],
            "text/plain": [
              "    Loan_ID Gender Married  ... Loan_Amount_Term Credit_History Property_Area\n",
              "0  LP001015   Male     Yes  ...            360.0            1.0         Urban\n",
              "1  LP001022   Male     Yes  ...            360.0            1.0         Urban\n",
              "2  LP001031   Male     Yes  ...            360.0            1.0         Urban\n",
              "3  LP001035   Male     Yes  ...            360.0            NaN         Urban\n",
              "4  LP001051   Male      No  ...            360.0            1.0         Urban\n",
              "\n",
              "[5 rows x 12 columns]"
            ]
          },
          "metadata": {
            "tags": []
          },
          "execution_count": 127
        }
      ]
    },
    {
      "cell_type": "code",
      "metadata": {
        "id": "xhx2mfb7-M_C",
        "colab_type": "code",
        "outputId": "6ec1eb80-3cb0-4ecd-e9f9-15395bf5a8fd",
        "colab": {
          "base_uri": "https://localhost:8080/",
          "height": 51
        }
      },
      "source": [
        "print(\"Shape of train:\",raw_train.shape)\n",
        "print(\"Shape of test:\",raw_test.shape)"
      ],
      "execution_count": 0,
      "outputs": [
        {
          "output_type": "stream",
          "text": [
            "Shape of train: (614, 13)\n",
            "Shape of test: (367, 12)\n"
          ],
          "name": "stdout"
        }
      ]
    },
    {
      "cell_type": "code",
      "metadata": {
        "id": "-DwQkyslsnj0",
        "colab_type": "code",
        "outputId": "f4c74982-c897-42fe-ced2-1c7a4eeb702e",
        "colab": {
          "base_uri": "https://localhost:8080/",
          "height": 255
        }
      },
      "source": [
        "df=pd.concat([raw_train,raw_test])\n",
        "df.isnull().sum()"
      ],
      "execution_count": 0,
      "outputs": [
        {
          "output_type": "execute_result",
          "data": {
            "text/plain": [
              "Loan_ID                0\n",
              "Gender                24\n",
              "Married                3\n",
              "Dependents            25\n",
              "Education              0\n",
              "Self_Employed         55\n",
              "ApplicantIncome        0\n",
              "CoapplicantIncome      0\n",
              "LoanAmount            27\n",
              "Loan_Amount_Term      20\n",
              "Credit_History        79\n",
              "Property_Area          0\n",
              "Loan_Status          367\n",
              "dtype: int64"
            ]
          },
          "metadata": {
            "tags": []
          },
          "execution_count": 126
        }
      ]
    },
    {
      "cell_type": "code",
      "metadata": {
        "id": "oFig2utDsr1j",
        "colab_type": "code",
        "outputId": "f92842b9-8b16-4c39-f1c2-447abd957504",
        "colab": {
          "base_uri": "https://localhost:8080/",
          "height": 357
        }
      },
      "source": [
        "df.info()"
      ],
      "execution_count": 0,
      "outputs": [
        {
          "output_type": "stream",
          "text": [
            "<class 'pandas.core.frame.DataFrame'>\n",
            "Int64Index: 981 entries, 0 to 366\n",
            "Data columns (total 13 columns):\n",
            " #   Column             Non-Null Count  Dtype  \n",
            "---  ------             --------------  -----  \n",
            " 0   Loan_ID            981 non-null    object \n",
            " 1   Gender             957 non-null    object \n",
            " 2   Married            978 non-null    object \n",
            " 3   Dependents         956 non-null    object \n",
            " 4   Education          981 non-null    object \n",
            " 5   Self_Employed      926 non-null    object \n",
            " 6   ApplicantIncome    981 non-null    int64  \n",
            " 7   CoapplicantIncome  981 non-null    float64\n",
            " 8   LoanAmount         954 non-null    float64\n",
            " 9   Loan_Amount_Term   961 non-null    float64\n",
            " 10  Credit_History     902 non-null    float64\n",
            " 11  Property_Area      981 non-null    object \n",
            " 12  Loan_Status        614 non-null    object \n",
            "dtypes: float64(4), int64(1), object(8)\n",
            "memory usage: 107.3+ KB\n"
          ],
          "name": "stdout"
        }
      ]
    },
    {
      "cell_type": "code",
      "metadata": {
        "id": "zD0aS2oHs0J-",
        "colab_type": "code",
        "outputId": "340119c3-d907-490a-cf45-eab18efe5c38",
        "colab": {
          "base_uri": "https://localhost:8080/",
          "height": 68
        }
      },
      "source": [
        "discrete=[var for var in df.columns if df[var].dtype!='O' and var!='Loan_Status' and df[var].nunique()<10]\n",
        "continuous=[var for var in df.columns if df[var].dtype!='O' and var!='Loan_Status' and var not in discrete]\n",
        "\n",
        "categorical=[var for var in df.columns if df[var].dtype=='O']\n",
        "\n",
        "print('There are {} discrete variables'.format(len(discrete)))\n",
        "print('There are {} continuous variables'.format(len(continuous)))\n",
        "print('There are {} categorical variables'.format(len(categorical)))\n"
      ],
      "execution_count": 0,
      "outputs": [
        {
          "output_type": "stream",
          "text": [
            "There are 1 discrete variables\n",
            "There are 4 continuous variables\n",
            "There are 8 categorical variables\n"
          ],
          "name": "stdout"
        }
      ]
    },
    {
      "cell_type": "code",
      "metadata": {
        "id": "eLAz5auVt1so",
        "colab_type": "code",
        "outputId": "2b6e6181-06c1-476b-9c24-2b4c903562e5",
        "colab": {
          "base_uri": "https://localhost:8080/",
          "height": 34
        }
      },
      "source": [
        "discrete"
      ],
      "execution_count": 0,
      "outputs": [
        {
          "output_type": "execute_result",
          "data": {
            "text/plain": [
              "['Credit_History']"
            ]
          },
          "metadata": {
            "tags": []
          },
          "execution_count": 131
        }
      ]
    },
    {
      "cell_type": "code",
      "metadata": {
        "id": "Tv5dfSpVt447",
        "colab_type": "code",
        "outputId": "94172747-2971-4fa9-fed2-72597fc0b644",
        "colab": {
          "base_uri": "https://localhost:8080/",
          "height": 153
        }
      },
      "source": [
        "categorical"
      ],
      "execution_count": 0,
      "outputs": [
        {
          "output_type": "execute_result",
          "data": {
            "text/plain": [
              "['Loan_ID',\n",
              " 'Gender',\n",
              " 'Married',\n",
              " 'Dependents',\n",
              " 'Education',\n",
              " 'Self_Employed',\n",
              " 'Property_Area',\n",
              " 'Loan_Status']"
            ]
          },
          "metadata": {
            "tags": []
          },
          "execution_count": 132
        }
      ]
    },
    {
      "cell_type": "code",
      "metadata": {
        "id": "QsGkCiSDt92l",
        "colab_type": "code",
        "outputId": "7122e7d3-c7c6-4258-e467-3e94de902ad2",
        "colab": {
          "base_uri": "https://localhost:8080/",
          "height": 34
        }
      },
      "source": [
        "continuous"
      ],
      "execution_count": 0,
      "outputs": [
        {
          "output_type": "execute_result",
          "data": {
            "text/plain": [
              "['ApplicantIncome', 'CoapplicantIncome', 'LoanAmount', 'Loan_Amount_Term']"
            ]
          },
          "metadata": {
            "tags": []
          },
          "execution_count": 133
        }
      ]
    },
    {
      "cell_type": "code",
      "metadata": {
        "id": "GzICzDS7uD0M",
        "colab_type": "code",
        "outputId": "60cfa60b-dde6-41d7-f740-ef0e9a212b97",
        "colab": {
          "base_uri": "https://localhost:8080/",
          "height": 357
        }
      },
      "source": [
        "df.info()"
      ],
      "execution_count": 0,
      "outputs": [
        {
          "output_type": "stream",
          "text": [
            "<class 'pandas.core.frame.DataFrame'>\n",
            "Int64Index: 981 entries, 0 to 366\n",
            "Data columns (total 13 columns):\n",
            " #   Column             Non-Null Count  Dtype  \n",
            "---  ------             --------------  -----  \n",
            " 0   Loan_ID            981 non-null    object \n",
            " 1   Gender             981 non-null    object \n",
            " 2   Married            981 non-null    object \n",
            " 3   Dependents         981 non-null    object \n",
            " 4   Education          981 non-null    object \n",
            " 5   Self_Employed      981 non-null    object \n",
            " 6   ApplicantIncome    981 non-null    int64  \n",
            " 7   CoapplicantIncome  981 non-null    float64\n",
            " 8   LoanAmount         981 non-null    float64\n",
            " 9   Loan_Amount_Term   981 non-null    float64\n",
            " 10  Credit_History     981 non-null    float64\n",
            " 11  Property_Area      981 non-null    object \n",
            " 12  Loan_Status        614 non-null    object \n",
            "dtypes: float64(4), int64(1), object(8)\n",
            "memory usage: 107.3+ KB\n"
          ],
          "name": "stdout"
        }
      ]
    },
    {
      "cell_type": "markdown",
      "metadata": {
        "id": "8QhLgGwTwtF7",
        "colab_type": "text"
      },
      "source": [
        "# Feature Engineering part-1\n",
        "\n",
        "1. Replacing null values with 'Missing' label for categorical variables.\n",
        "2. Replacing the null values for numerical with -999\n",
        "3. LabelEncoding and onehotencoding"
      ]
    },
    {
      "cell_type": "code",
      "metadata": {
        "id": "pyY13BMIwKlW",
        "colab_type": "code",
        "colab": {}
      },
      "source": [
        "#categorical\n",
        "df['Gender']=df.Gender.fillna(value='Missing')\n",
        "df['Married']=df.Married.fillna(value='Missing')\n",
        "df['Dependents']=df.Dependents.fillna(value='Missing')\n",
        "df['Self_Employed']=df.Self_Employed.fillna(value='Missing')\n",
        "#numerical\n",
        "df['LoanAmount']=df.LoanAmount.fillna(value=-999)\n",
        "df['Loan_Amount_Term']=df.Loan_Amount_Term.fillna(value=-999)\n",
        "df['Credit_History']=df.Credit_History.fillna(value=-999)"
      ],
      "execution_count": 0,
      "outputs": []
    },
    {
      "cell_type": "code",
      "metadata": {
        "id": "8RyCUBdx_AQr",
        "colab_type": "code",
        "outputId": "5d365d7b-ba06-4e26-968f-dd44e9a2774b",
        "colab": {
          "base_uri": "https://localhost:8080/",
          "height": 442
        }
      },
      "source": [
        "X=df.drop(['Loan_ID','Loan_Status'],axis=1)\n",
        "y=df['Loan_Status']\n",
        "X_dum=pd.get_dummies(X,drop_first=True)\n",
        "X_dum.info()"
      ],
      "execution_count": 0,
      "outputs": [
        {
          "output_type": "stream",
          "text": [
            "<class 'pandas.core.frame.DataFrame'>\n",
            "Int64Index: 981 entries, 0 to 366\n",
            "Data columns (total 18 columns):\n",
            " #   Column                   Non-Null Count  Dtype  \n",
            "---  ------                   --------------  -----  \n",
            " 0   ApplicantIncome          981 non-null    int64  \n",
            " 1   CoapplicantIncome        981 non-null    float64\n",
            " 2   LoanAmount               981 non-null    float64\n",
            " 3   Loan_Amount_Term         981 non-null    float64\n",
            " 4   Credit_History           981 non-null    float64\n",
            " 5   Gender_Male              981 non-null    uint8  \n",
            " 6   Gender_Missing           981 non-null    uint8  \n",
            " 7   Married_No               981 non-null    uint8  \n",
            " 8   Married_Yes              981 non-null    uint8  \n",
            " 9   Dependents_1             981 non-null    uint8  \n",
            " 10  Dependents_2             981 non-null    uint8  \n",
            " 11  Dependents_3+            981 non-null    uint8  \n",
            " 12  Dependents_Missing       981 non-null    uint8  \n",
            " 13  Education_Not Graduate   981 non-null    uint8  \n",
            " 14  Self_Employed_No         981 non-null    uint8  \n",
            " 15  Self_Employed_Yes        981 non-null    uint8  \n",
            " 16  Property_Area_Semiurban  981 non-null    uint8  \n",
            " 17  Property_Area_Urban      981 non-null    uint8  \n",
            "dtypes: float64(4), int64(1), uint8(13)\n",
            "memory usage: 78.4 KB\n"
          ],
          "name": "stdout"
        }
      ]
    },
    {
      "cell_type": "code",
      "metadata": {
        "id": "BXuLMaqXJfU0",
        "colab_type": "code",
        "outputId": "ae55e9d7-9477-490a-a981-76750c8700c0",
        "colab": {
          "base_uri": "https://localhost:8080/",
          "height": 68
        }
      },
      "source": [
        "y.value_counts()"
      ],
      "execution_count": 0,
      "outputs": [
        {
          "output_type": "execute_result",
          "data": {
            "text/plain": [
              "Y    422\n",
              "N    192\n",
              "Name: Loan_Status, dtype: int64"
            ]
          },
          "metadata": {
            "tags": []
          },
          "execution_count": 189
        }
      ]
    },
    {
      "cell_type": "code",
      "metadata": {
        "id": "uKCQUw-xAeGZ",
        "colab_type": "code",
        "colab": {}
      },
      "source": [
        "train_X=X_dum.iloc[:614,:]\n",
        "train_y=y[:614]\n",
        "\n",
        "# test for submission\n",
        "test_X=X_dum.iloc[614:,:]\n",
        "test_y=y[614:]"
      ],
      "execution_count": 0,
      "outputs": []
    },
    {
      "cell_type": "code",
      "metadata": {
        "id": "gY_phFzQD2-P",
        "colab_type": "code",
        "outputId": "f9c64f80-0673-4288-ae4d-627b16a0dea9",
        "colab": {
          "base_uri": "https://localhost:8080/",
          "height": 34
        }
      },
      "source": [
        "test_X.shape"
      ],
      "execution_count": 0,
      "outputs": [
        {
          "output_type": "execute_result",
          "data": {
            "text/plain": [
              "(367, 18)"
            ]
          },
          "metadata": {
            "tags": []
          },
          "execution_count": 156
        }
      ]
    },
    {
      "cell_type": "markdown",
      "metadata": {
        "id": "xd1jnh3m1jgf",
        "colab_type": "text"
      },
      "source": [
        "# Model Building"
      ]
    },
    {
      "cell_type": "code",
      "metadata": {
        "id": "cc4btPB41WPY",
        "colab_type": "code",
        "colab": {}
      },
      "source": [
        "from sklearn.linear_model import LogisticRegression\n",
        "from sklearn.svm import SVC\n",
        "from sklearn.ensemble import RandomForestClassifier,GradientBoostingClassifier, AdaBoostClassifier,VotingClassifier\n",
        "from sklearn.tree import DecisionTreeClassifier,plot_tree\n",
        "from xgboost import XGBClassifier\n",
        "from sklearn.metrics import confusion_matrix,accuracy_score,classification_report,roc_auc_score\n",
        "from sklearn.model_selection import train_test_split, cross_val_score,GridSearchCV, RandomizedSearchCV"
      ],
      "execution_count": 0,
      "outputs": []
    },
    {
      "cell_type": "code",
      "metadata": {
        "id": "1Q5jJUj6668D",
        "colab_type": "code",
        "outputId": "38227274-0262-4b95-a55a-0f6e2ce7e2d9",
        "colab": {
          "base_uri": "https://localhost:8080/",
          "height": 51
        }
      },
      "source": [
        "X_train,X_test,y_train,y_test=train_test_split(train_X,train_y,test_size=0.2,stratify=train_y)\n",
        "print(\"Shape of X_train:\",X_train.shape)\n",
        "print(\"Shape of X_test:\",X_test.shape)"
      ],
      "execution_count": 0,
      "outputs": [
        {
          "output_type": "stream",
          "text": [
            "Shape of X_train: (491, 18)\n",
            "Shape of X_test: (123, 18)\n"
          ],
          "name": "stdout"
        }
      ]
    },
    {
      "cell_type": "code",
      "metadata": {
        "id": "SNS5HUx0KfHh",
        "colab_type": "code",
        "outputId": "d6965bcb-32c5-483e-e034-e9e06f942956",
        "colab": {
          "base_uri": "https://localhost:8080/",
          "height": 68
        }
      },
      "source": [
        "y_train.value_counts()"
      ],
      "execution_count": 0,
      "outputs": [
        {
          "output_type": "execute_result",
          "data": {
            "text/plain": [
              "Y    337\n",
              "N    154\n",
              "Name: Loan_Status, dtype: int64"
            ]
          },
          "metadata": {
            "tags": []
          },
          "execution_count": 196
        }
      ]
    },
    {
      "cell_type": "code",
      "metadata": {
        "id": "aMbj8kIJJm3y",
        "colab_type": "code",
        "outputId": "d10624f8-3e6b-43c7-be84-12d3878f47d1",
        "colab": {
          "base_uri": "https://localhost:8080/",
          "height": 68
        }
      },
      "source": [
        "y_test.value_counts()"
      ],
      "execution_count": 0,
      "outputs": [
        {
          "output_type": "execute_result",
          "data": {
            "text/plain": [
              "Y    85\n",
              "N    38\n",
              "Name: Loan_Status, dtype: int64"
            ]
          },
          "metadata": {
            "tags": []
          },
          "execution_count": 190
        }
      ]
    },
    {
      "cell_type": "code",
      "metadata": {
        "id": "jjWcvWAZ2DSv",
        "colab_type": "code",
        "colab": {}
      },
      "source": [
        "model_scores={}"
      ],
      "execution_count": 0,
      "outputs": []
    },
    {
      "cell_type": "code",
      "metadata": {
        "id": "iMcodm1x1nXc",
        "colab_type": "code",
        "colab": {}
      },
      "source": [
        "def build_model(model,X_train,X_test,y_train,y_test):\n",
        "    model.fit(X_train,y_train)\n",
        "    y_pred=model.predict(X_test)\n",
        "    y_train_pred=model.predict(X_train)\n",
        "    \n",
        "    model_name = type(model).__name__\n",
        "    train_acc=accuracy_score(y_train,y_train_pred)\n",
        "    test_acc=accuracy_score(y_test,y_pred)\n",
        "    \n",
        "    print(confusion_matrix(y_test,y_pred))\n",
        "\n",
        "    print(classification_report(y_test,y_pred))\n",
        "    \n",
        "\n",
        "\n",
        "    \n",
        "    print(\"Training accuracy: : \",train_acc)\n",
        "    print(\"Testing  accuracy: : \",test_acc)\n",
        "    \n",
        "    cv_results=cross_val_score(model,X_train,y_train,cv=10,n_jobs=-1)\n",
        "    print(\"Cross validation Log Loss:\", cv_results.mean())\n",
        "\n",
        "    cv_acc=cv_results.mean()\n",
        "    model_scores.setdefault(model_name,[train_acc,test_acc,cv_acc])\n",
        "\n",
        "    y_test=y_test.map({'Y':1,'N':0})\n",
        "    y_pred=pd.Series(y_pred).map({'Y':1,'N':0})\n",
        "\n",
        "\n",
        "    print(\"ROC_AUC-score:\",roc_auc_score(y_test,y_pred))\n",
        "\n"
      ],
      "execution_count": 0,
      "outputs": []
    },
    {
      "cell_type": "markdown",
      "metadata": {
        "id": "yROQI1y7F7CF",
        "colab_type": "text"
      },
      "source": [
        "# Logistic Regression"
      ]
    },
    {
      "cell_type": "code",
      "metadata": {
        "id": "whBgTjzg19dH",
        "colab_type": "code",
        "outputId": "8bbd5985-479c-4410-bf40-d43195bf63f4",
        "colab": {
          "base_uri": "https://localhost:8080/",
          "height": 255
        }
      },
      "source": [
        "from sklearn.preprocessing import StandardScaler\n",
        "std=StandardScaler()\n",
        "Xtr_std=std.fit_transform(X_train[['']])\n",
        "Xte_std=std.transform(X_test)\n",
        "lr=LogisticRegression()\n",
        "build_model(lr,Xtr_std,Xte_std,y_train,y_test)"
      ],
      "execution_count": 0,
      "outputs": [
        {
          "output_type": "stream",
          "text": [
            "[[ 3 35]\n",
            " [ 8 77]]\n",
            "              precision    recall  f1-score   support\n",
            "\n",
            "           N       0.27      0.08      0.12        38\n",
            "           Y       0.69      0.91      0.78        85\n",
            "\n",
            "    accuracy                           0.65       123\n",
            "   macro avg       0.48      0.49      0.45       123\n",
            "weighted avg       0.56      0.65      0.58       123\n",
            "\n",
            "Training accuracy: :  0.6985743380855397\n",
            "Testing  accuracy: :  0.6504065040650406\n",
            "Cross validation Log Loss: 0.6698775510204081\n"
          ],
          "name": "stdout"
        }
      ]
    },
    {
      "cell_type": "code",
      "metadata": {
        "id": "Q6nxk0qe9dhE",
        "colab_type": "code",
        "colab": {}
      },
      "source": [
        "lr_preds=lr.predict(std.transform(test_X))"
      ],
      "execution_count": 0,
      "outputs": []
    },
    {
      "cell_type": "code",
      "metadata": {
        "id": "JCpFLLppD9ec",
        "colab_type": "code",
        "outputId": "7de0e8c5-9c6a-41da-d610-1cfdaacdb7dc",
        "colab": {
          "base_uri": "https://localhost:8080/",
          "height": 510
        }
      },
      "source": [
        "lr_preds"
      ],
      "execution_count": 0,
      "outputs": [
        {
          "output_type": "execute_result",
          "data": {
            "text/plain": [
              "array(['Y', 'Y', 'Y', 'Y', 'N', 'Y', 'Y', 'Y', 'Y', 'Y', 'N', 'Y', 'Y',\n",
              "       'Y', 'Y', 'Y', 'Y', 'Y', 'Y', 'Y', 'N', 'N', 'N', 'Y', 'Y', 'N',\n",
              "       'Y', 'Y', 'Y', 'Y', 'Y', 'Y', 'Y', 'Y', 'Y', 'Y', 'Y', 'Y', 'Y',\n",
              "       'Y', 'Y', 'Y', 'Y', 'Y', 'Y', 'Y', 'N', 'Y', 'Y', 'Y', 'Y', 'Y',\n",
              "       'Y', 'Y', 'Y', 'Y', 'N', 'Y', 'Y', 'Y', 'Y', 'Y', 'Y', 'Y', 'Y',\n",
              "       'Y', 'Y', 'Y', 'Y', 'Y', 'Y', 'Y', 'Y', 'Y', 'Y', 'Y', 'Y', 'Y',\n",
              "       'Y', 'Y', 'Y', 'Y', 'Y', 'Y', 'Y', 'Y', 'Y', 'Y', 'Y', 'Y', 'Y',\n",
              "       'Y', 'Y', 'Y', 'Y', 'Y', 'Y', 'Y', 'Y', 'Y', 'Y', 'Y', 'Y', 'Y',\n",
              "       'Y', 'Y', 'N', 'Y', 'Y', 'Y', 'Y', 'Y', 'Y', 'Y', 'Y', 'Y', 'Y',\n",
              "       'Y', 'Y', 'Y', 'Y', 'Y', 'Y', 'Y', 'Y', 'Y', 'Y', 'Y', 'Y', 'Y',\n",
              "       'Y', 'Y', 'Y', 'Y', 'Y', 'Y', 'Y', 'Y', 'N', 'Y', 'Y', 'Y', 'Y',\n",
              "       'Y', 'Y', 'Y', 'Y', 'N', 'Y', 'Y', 'Y', 'Y', 'Y', 'N', 'Y', 'Y',\n",
              "       'Y', 'Y', 'Y', 'Y', 'Y', 'Y', 'Y', 'Y', 'Y', 'Y', 'Y', 'Y', 'Y',\n",
              "       'Y', 'Y', 'Y', 'Y', 'Y', 'Y', 'Y', 'Y', 'Y', 'Y', 'Y', 'Y', 'Y',\n",
              "       'Y', 'Y', 'Y', 'Y', 'Y', 'Y', 'Y', 'Y', 'Y', 'Y', 'Y', 'N', 'Y',\n",
              "       'Y', 'Y', 'Y', 'Y', 'Y', 'Y', 'Y', 'Y', 'Y', 'Y', 'Y', 'Y', 'Y',\n",
              "       'Y', 'N', 'Y', 'Y', 'Y', 'Y', 'N', 'Y', 'Y', 'Y', 'Y', 'Y', 'Y',\n",
              "       'Y', 'Y', 'Y', 'Y', 'Y', 'Y', 'Y', 'Y', 'Y', 'Y', 'N', 'Y', 'Y',\n",
              "       'Y', 'Y', 'Y', 'N', 'Y', 'Y', 'N', 'Y', 'Y', 'Y', 'Y', 'Y', 'Y',\n",
              "       'N', 'Y', 'Y', 'Y', 'Y', 'Y', 'Y', 'Y', 'Y', 'Y', 'Y', 'Y', 'Y',\n",
              "       'Y', 'Y', 'Y', 'Y', 'Y', 'Y', 'Y', 'N', 'Y', 'Y', 'Y', 'Y', 'Y',\n",
              "       'Y', 'Y', 'Y', 'Y', 'Y', 'Y', 'Y', 'Y', 'Y', 'Y', 'N', 'Y', 'Y',\n",
              "       'Y', 'Y', 'Y', 'Y', 'Y', 'Y', 'N', 'Y', 'Y', 'Y', 'Y', 'Y', 'Y',\n",
              "       'Y', 'Y', 'Y', 'N', 'N', 'Y', 'Y', 'Y', 'Y', 'Y', 'Y', 'Y', 'N',\n",
              "       'N', 'Y', 'Y', 'Y', 'Y', 'Y', 'N', 'Y', 'Y', 'Y', 'Y', 'Y', 'Y',\n",
              "       'Y', 'Y', 'Y', 'Y', 'Y', 'Y', 'Y', 'N', 'Y', 'Y', 'Y', 'Y', 'Y',\n",
              "       'Y', 'Y', 'Y', 'Y', 'Y', 'Y', 'Y', 'Y', 'Y', 'N', 'Y', 'Y', 'Y',\n",
              "       'N', 'Y', 'Y', 'Y', 'Y', 'Y', 'Y', 'Y', 'Y', 'Y', 'Y', 'N', 'Y',\n",
              "       'Y', 'Y', 'Y'], dtype=object)"
            ]
          },
          "metadata": {
            "tags": []
          },
          "execution_count": 167
        }
      ]
    },
    {
      "cell_type": "markdown",
      "metadata": {
        "id": "swuzdj-yG_Bb",
        "colab_type": "text"
      },
      "source": [
        "# SVC"
      ]
    },
    {
      "cell_type": "code",
      "metadata": {
        "id": "9eSV8ET0Gnsh",
        "colab_type": "code",
        "outputId": "c9d508a6-e737-4efd-e6af-f82acf69930e",
        "colab": {
          "base_uri": "https://localhost:8080/",
          "height": 272
        }
      },
      "source": [
        "svc=SVC()\n",
        "build_model(svc,Xtr_std,Xte_std,y_train,y_test)"
      ],
      "execution_count": 0,
      "outputs": [
        {
          "output_type": "stream",
          "text": [
            "[[ 1 37]\n",
            " [ 3 82]]\n",
            "              precision    recall  f1-score   support\n",
            "\n",
            "           N       0.25      0.03      0.05        38\n",
            "           Y       0.69      0.96      0.80        85\n",
            "\n",
            "    accuracy                           0.67       123\n",
            "   macro avg       0.47      0.50      0.43       123\n",
            "weighted avg       0.55      0.67      0.57       123\n",
            "\n",
            "Training accuracy: :  0.7331975560081466\n",
            "Testing  accuracy: :  0.6747967479674797\n",
            "Cross validation Log Loss: 0.6618367346938775\n",
            "ROC_AUC-score: 0.4955108359133127\n"
          ],
          "name": "stdout"
        }
      ]
    },
    {
      "cell_type": "markdown",
      "metadata": {
        "id": "jQQmaeDUJNro",
        "colab_type": "text"
      },
      "source": [
        "# DecisionTree"
      ]
    },
    {
      "cell_type": "code",
      "metadata": {
        "id": "IzJnvXoEJNAm",
        "colab_type": "code",
        "outputId": "c5edeff0-0d5d-4b56-9e73-b102487462c5",
        "colab": {
          "base_uri": "https://localhost:8080/",
          "height": 272
        }
      },
      "source": [
        "dt=DecisionTreeClassifier()\n",
        "build_model(dt,X_train,X_test,y_train,y_test)"
      ],
      "execution_count": 0,
      "outputs": [
        {
          "output_type": "stream",
          "text": [
            "[[18 20]\n",
            " [24 61]]\n",
            "              precision    recall  f1-score   support\n",
            "\n",
            "           N       0.43      0.47      0.45        38\n",
            "           Y       0.75      0.72      0.73        85\n",
            "\n",
            "    accuracy                           0.64       123\n",
            "   macro avg       0.59      0.60      0.59       123\n",
            "weighted avg       0.65      0.64      0.65       123\n",
            "\n",
            "Training accuracy: :  1.0\n",
            "Testing  accuracy: :  0.6422764227642277\n",
            "Cross validation Log Loss: 0.7330204081632653\n",
            "ROC_AUC-score: 0.5956656346749226\n"
          ],
          "name": "stdout"
        }
      ]
    },
    {
      "cell_type": "code",
      "metadata": {
        "id": "sGKLJ_HKKoUs",
        "colab_type": "code",
        "outputId": "5ee9db9d-753d-4b18-ab5d-97409f14f8c7",
        "colab": {
          "base_uri": "https://localhost:8080/",
          "height": 34
        }
      },
      "source": [
        "dt.get_depth()"
      ],
      "execution_count": 0,
      "outputs": [
        {
          "output_type": "execute_result",
          "data": {
            "text/plain": [
              "20"
            ]
          },
          "metadata": {
            "tags": []
          },
          "execution_count": 200
        }
      ]
    },
    {
      "cell_type": "code",
      "metadata": {
        "id": "KBDJXsuSHIEB",
        "colab_type": "code",
        "outputId": "f52c1c9f-082b-4777-f090-9815358a61eb",
        "colab": {
          "base_uri": "https://localhost:8080/",
          "height": 913
        }
      },
      "source": [
        "plt.figure(figsize=(30,30))\n",
        "plot_tree(dt,fontsize=12)\n",
        "plt.show()"
      ],
      "execution_count": 0,
      "outputs": [
        {
          "output_type": "display_data",
          "data": {
            "image/png": "[encoded data removed]",
            "text/plain": [
              "<Figure size 2160x2160 with 1 Axes>"
            ]
          },
          "metadata": {
            "tags": [],
            "needs_background": "light"
          }
        }
      ]
    },
    {
      "cell_type": "code",
      "metadata": {
        "id": "Wt6FqM5BJ_zB",
        "colab_type": "code",
        "outputId": "12bea46d-bdab-4b25-9687-0ece9c6551d2",
        "colab": {
          "base_uri": "https://localhost:8080/",
          "height": 272
        }
      },
      "source": [
        "dt_max_10=DecisionTreeClassifier(max_depth=10)\n",
        "build_model(dt_max_10,X_train,X_test,y_train,y_test)"
      ],
      "execution_count": 0,
      "outputs": [
        {
          "output_type": "stream",
          "text": [
            "[[17 21]\n",
            " [15 70]]\n",
            "              precision    recall  f1-score   support\n",
            "\n",
            "           N       0.53      0.45      0.49        38\n",
            "           Y       0.77      0.82      0.80        85\n",
            "\n",
            "    accuracy                           0.71       123\n",
            "   macro avg       0.65      0.64      0.64       123\n",
            "weighted avg       0.70      0.71      0.70       123\n",
            "\n",
            "Training accuracy: :  0.9164969450101833\n",
            "Testing  accuracy: :  0.7073170731707317\n",
            "Cross validation Log Loss: 0.7676326530612244\n",
            "ROC_AUC-score: 0.6354489164086687\n"
          ],
          "name": "stdout"
        }
      ]
    },
    {
      "cell_type": "code",
      "metadata": {
        "id": "TFcvny_AK_-_",
        "colab_type": "code",
        "outputId": "4076c8a7-114f-4d6e-891c-69616c271817",
        "colab": {
          "base_uri": "https://localhost:8080/",
          "height": 1000
        }
      },
      "source": [
        "for mt in range(1,18):\n",
        "    print(\"MAX Depth : \",mt)\n",
        "    build_model(DecisionTreeClassifier(max_depth=mt,random_state=42),X_train,X_test,y_train,y_test)\n",
        "    print('*'*50)"
      ],
      "execution_count": 0,
      "outputs": [
        {
          "output_type": "stream",
          "text": [
            "MAX Depth :  1\n",
            "[[20 18]\n",
            " [ 8 77]]\n",
            "              precision    recall  f1-score   support\n",
            "\n",
            "           N       0.71      0.53      0.61        38\n",
            "           Y       0.81      0.91      0.86        85\n",
            "\n",
            "    accuracy                           0.79       123\n",
            "   macro avg       0.76      0.72      0.73       123\n",
            "weighted avg       0.78      0.79      0.78       123\n",
            "\n",
            "Training accuracy: :  0.7657841140529531\n",
            "Testing  accuracy: :  0.7886178861788617\n",
            "Cross validation Log Loss: 0.7657142857142857\n",
            "ROC_AUC-score: 0.7160990712074303\n",
            "**************************************************\n",
            "MAX Depth :  2\n",
            "[[16 22]\n",
            " [ 0 85]]\n",
            "              precision    recall  f1-score   support\n",
            "\n",
            "           N       1.00      0.42      0.59        38\n",
            "           Y       0.79      1.00      0.89        85\n",
            "\n",
            "    accuracy                           0.82       123\n",
            "   macro avg       0.90      0.71      0.74       123\n",
            "weighted avg       0.86      0.82      0.79       123\n",
            "\n",
            "Training accuracy: :  0.8065173116089613\n",
            "Testing  accuracy: :  0.8211382113821138\n",
            "Cross validation Log Loss: 0.8023673469387755\n",
            "ROC_AUC-score: 0.7105263157894737\n",
            "**************************************************\n",
            "MAX Depth :  3\n",
            "[[17 21]\n",
            " [ 2 83]]\n",
            "              precision    recall  f1-score   support\n",
            "\n",
            "           N       0.89      0.45      0.60        38\n",
            "           Y       0.80      0.98      0.88        85\n",
            "\n",
            "    accuracy                           0.81       123\n",
            "   macro avg       0.85      0.71      0.74       123\n",
            "weighted avg       0.83      0.81      0.79       123\n",
            "\n",
            "Training accuracy: :  0.8167006109979633\n",
            "Testing  accuracy: :  0.8130081300813008\n",
            "Cross validation Log Loss: 0.7962857142857144\n",
            "ROC_AUC-score: 0.7119195046439628\n",
            "**************************************************\n",
            "MAX Depth :  4\n",
            "[[17 21]\n",
            " [ 5 80]]\n",
            "              precision    recall  f1-score   support\n",
            "\n",
            "           N       0.77      0.45      0.57        38\n",
            "           Y       0.79      0.94      0.86        85\n",
            "\n",
            "    accuracy                           0.79       123\n",
            "   macro avg       0.78      0.69      0.71       123\n",
            "weighted avg       0.79      0.79      0.77       123\n",
            "\n",
            "Training accuracy: :  0.8370672097759674\n",
            "Testing  accuracy: :  0.7886178861788617\n",
            "Cross validation Log Loss: 0.8044489795918366\n",
            "ROC_AUC-score: 0.6942724458204335\n",
            "**************************************************\n",
            "MAX Depth :  5\n",
            "[[17 21]\n",
            " [ 5 80]]\n",
            "              precision    recall  f1-score   support\n",
            "\n",
            "           N       0.77      0.45      0.57        38\n",
            "           Y       0.79      0.94      0.86        85\n",
            "\n",
            "    accuracy                           0.79       123\n",
            "   macro avg       0.78      0.69      0.71       123\n",
            "weighted avg       0.79      0.79      0.77       123\n",
            "\n",
            "Training accuracy: :  0.8513238289205702\n",
            "Testing  accuracy: :  0.7886178861788617\n",
            "Cross validation Log Loss: 0.8003673469387756\n",
            "ROC_AUC-score: 0.6942724458204335\n",
            "**************************************************\n",
            "MAX Depth :  6\n",
            "[[17 21]\n",
            " [ 6 79]]\n",
            "              precision    recall  f1-score   support\n",
            "\n",
            "           N       0.74      0.45      0.56        38\n",
            "           Y       0.79      0.93      0.85        85\n",
            "\n",
            "    accuracy                           0.78       123\n",
            "   macro avg       0.76      0.69      0.71       123\n",
            "weighted avg       0.77      0.78      0.76       123\n",
            "\n",
            "Training accuracy: :  0.8553971486761711\n",
            "Testing  accuracy: :  0.7804878048780488\n",
            "Cross validation Log Loss: 0.7759591836734694\n",
            "ROC_AUC-score: 0.688390092879257\n",
            "**************************************************\n",
            "MAX Depth :  7\n",
            "[[16 22]\n",
            " [ 7 78]]\n",
            "              precision    recall  f1-score   support\n",
            "\n",
            "           N       0.70      0.42      0.52        38\n",
            "           Y       0.78      0.92      0.84        85\n",
            "\n",
            "    accuracy                           0.76       123\n",
            "   macro avg       0.74      0.67      0.68       123\n",
            "weighted avg       0.75      0.76      0.74       123\n",
            "\n",
            "Training accuracy: :  0.8778004073319755\n",
            "Testing  accuracy: :  0.7642276422764228\n",
            "Cross validation Log Loss: 0.755469387755102\n",
            "ROC_AUC-score: 0.6693498452012383\n",
            "**************************************************\n",
            "MAX Depth :  8\n",
            "[[18 20]\n",
            " [15 70]]\n",
            "              precision    recall  f1-score   support\n",
            "\n",
            "           N       0.55      0.47      0.51        38\n",
            "           Y       0.78      0.82      0.80        85\n",
            "\n",
            "    accuracy                           0.72       123\n",
            "   macro avg       0.66      0.65      0.65       123\n",
            "weighted avg       0.71      0.72      0.71       123\n",
            "\n",
            "Training accuracy: :  0.9022403258655805\n",
            "Testing  accuracy: :  0.7154471544715447\n",
            "Cross validation Log Loss: 0.7655918367346939\n",
            "ROC_AUC-score: 0.6486068111455108\n",
            "**************************************************\n",
            "MAX Depth :  9\n",
            "[[18 20]\n",
            " [17 68]]\n",
            "              precision    recall  f1-score   support\n",
            "\n",
            "           N       0.51      0.47      0.49        38\n",
            "           Y       0.77      0.80      0.79        85\n",
            "\n",
            "    accuracy                           0.70       123\n",
            "   macro avg       0.64      0.64      0.64       123\n",
            "weighted avg       0.69      0.70      0.70       123\n",
            "\n",
            "Training accuracy: :  0.9083503054989817\n",
            "Testing  accuracy: :  0.6991869918699187\n",
            "Cross validation Log Loss: 0.7595102040816325\n",
            "ROC_AUC-score: 0.6368421052631579\n",
            "**************************************************\n",
            "MAX Depth :  10\n",
            "[[18 20]\n",
            " [14 71]]\n",
            "              precision    recall  f1-score   support\n",
            "\n",
            "           N       0.56      0.47      0.51        38\n",
            "           Y       0.78      0.84      0.81        85\n",
            "\n",
            "    accuracy                           0.72       123\n",
            "   macro avg       0.67      0.65      0.66       123\n",
            "weighted avg       0.71      0.72      0.72       123\n",
            "\n",
            "Training accuracy: :  0.9164969450101833\n",
            "Testing  accuracy: :  0.7235772357723578\n",
            "Cross validation Log Loss: 0.7696734693877552\n",
            "ROC_AUC-score: 0.6544891640866873\n",
            "**************************************************\n",
            "MAX Depth :  11\n",
            "[[17 21]\n",
            " [15 70]]\n",
            "              precision    recall  f1-score   support\n",
            "\n",
            "           N       0.53      0.45      0.49        38\n",
            "           Y       0.77      0.82      0.80        85\n",
            "\n",
            "    accuracy                           0.71       123\n",
            "   macro avg       0.65      0.64      0.64       123\n",
            "weighted avg       0.70      0.71      0.70       123\n",
            "\n",
            "Training accuracy: :  0.9226069246435845\n",
            "Testing  accuracy: :  0.7073170731707317\n",
            "Cross validation Log Loss: 0.7615510204081632\n",
            "ROC_AUC-score: 0.6354489164086687\n",
            "**************************************************\n",
            "MAX Depth :  12\n",
            "[[18 20]\n",
            " [20 65]]\n",
            "              precision    recall  f1-score   support\n",
            "\n",
            "           N       0.47      0.47      0.47        38\n",
            "           Y       0.76      0.76      0.76        85\n",
            "\n",
            "    accuracy                           0.67       123\n",
            "   macro avg       0.62      0.62      0.62       123\n",
            "weighted avg       0.67      0.67      0.67       123\n",
            "\n",
            "Training accuracy: :  0.9287169042769857\n",
            "Testing  accuracy: :  0.6747967479674797\n",
            "Cross validation Log Loss: 0.7575510204081632\n",
            "ROC_AUC-score: 0.6191950464396284\n",
            "**************************************************\n",
            "MAX Depth :  13\n",
            "[[17 21]\n",
            " [17 68]]\n",
            "              precision    recall  f1-score   support\n",
            "\n",
            "           N       0.50      0.45      0.47        38\n",
            "           Y       0.76      0.80      0.78        85\n",
            "\n",
            "    accuracy                           0.69       123\n",
            "   macro avg       0.63      0.62      0.63       123\n",
            "weighted avg       0.68      0.69      0.69       123\n",
            "\n",
            "Training accuracy: :  0.9490835030549898\n",
            "Testing  accuracy: :  0.6910569105691057\n",
            "Cross validation Log Loss: 0.7554693877551019\n",
            "ROC_AUC-score: 0.6236842105263158\n",
            "**************************************************\n",
            "MAX Depth :  14\n",
            "[[18 20]\n",
            " [22 63]]\n",
            "              precision    recall  f1-score   support\n",
            "\n",
            "           N       0.45      0.47      0.46        38\n",
            "           Y       0.76      0.74      0.75        85\n",
            "\n",
            "    accuracy                           0.66       123\n",
            "   macro avg       0.60      0.61      0.61       123\n",
            "weighted avg       0.66      0.66      0.66       123\n",
            "\n",
            "Training accuracy: :  0.9633401221995926\n",
            "Testing  accuracy: :  0.6585365853658537\n",
            "Cross validation Log Loss: 0.765673469387755\n",
            "ROC_AUC-score: 0.6074303405572756\n",
            "**************************************************\n",
            "MAX Depth :  15\n",
            "[[18 20]\n",
            " [18 67]]\n",
            "              precision    recall  f1-score   support\n",
            "\n",
            "           N       0.50      0.47      0.49        38\n",
            "           Y       0.77      0.79      0.78        85\n",
            "\n",
            "    accuracy                           0.69       123\n",
            "   macro avg       0.64      0.63      0.63       123\n",
            "weighted avg       0.69      0.69      0.69       123\n",
            "\n",
            "Training accuracy: :  0.9694501018329938\n",
            "Testing  accuracy: :  0.6910569105691057\n",
            "Cross validation Log Loss: 0.7554693877551021\n",
            "ROC_AUC-score: 0.6309597523219814\n",
            "**************************************************\n",
            "MAX Depth :  16\n",
            "[[18 20]\n",
            " [18 67]]\n",
            "              precision    recall  f1-score   support\n",
            "\n",
            "           N       0.50      0.47      0.49        38\n",
            "           Y       0.77      0.79      0.78        85\n",
            "\n",
            "    accuracy                           0.69       123\n",
            "   macro avg       0.64      0.63      0.63       123\n",
            "weighted avg       0.69      0.69      0.69       123\n",
            "\n",
            "Training accuracy: :  0.9857433808553971\n",
            "Testing  accuracy: :  0.6910569105691057\n",
            "Cross validation Log Loss: 0.7555102040816326\n",
            "ROC_AUC-score: 0.6309597523219814\n",
            "**************************************************\n",
            "MAX Depth :  17\n",
            "[[18 20]\n",
            " [22 63]]\n",
            "              precision    recall  f1-score   support\n",
            "\n",
            "           N       0.45      0.47      0.46        38\n",
            "           Y       0.76      0.74      0.75        85\n",
            "\n",
            "    accuracy                           0.66       123\n",
            "   macro avg       0.60      0.61      0.61       123\n",
            "weighted avg       0.66      0.66      0.66       123\n",
            "\n",
            "Training accuracy: :  0.9877800407331976\n",
            "Testing  accuracy: :  0.6585365853658537\n",
            "Cross validation Log Loss: 0.747265306122449\n",
            "ROC_AUC-score: 0.6074303405572756\n",
            "**************************************************\n"
          ],
          "name": "stdout"
        }
      ]
    },
    {
      "cell_type": "code",
      "metadata": {
        "id": "oYfi9xamLfgZ",
        "colab_type": "code",
        "outputId": "8d5e5e9f-6f07-4021-9e84-298eafe4c702",
        "colab": {
          "base_uri": "https://localhost:8080/",
          "height": 272
        }
      },
      "source": [
        "dt_max_3=DecisionTreeClassifier(max_depth=3,random_state=42)\n",
        "build_model(dt_max_3,X_train,X_test,y_train,y_test)"
      ],
      "execution_count": 0,
      "outputs": [
        {
          "output_type": "stream",
          "text": [
            "[[17 21]\n",
            " [ 2 83]]\n",
            "              precision    recall  f1-score   support\n",
            "\n",
            "           N       0.89      0.45      0.60        38\n",
            "           Y       0.80      0.98      0.88        85\n",
            "\n",
            "    accuracy                           0.81       123\n",
            "   macro avg       0.85      0.71      0.74       123\n",
            "weighted avg       0.83      0.81      0.79       123\n",
            "\n",
            "Training accuracy: :  0.8167006109979633\n",
            "Testing  accuracy: :  0.8130081300813008\n",
            "Cross validation Log Loss: 0.7962857142857144\n",
            "ROC_AUC-score: 0.7119195046439628\n"
          ],
          "name": "stdout"
        }
      ]
    },
    {
      "cell_type": "code",
      "metadata": {
        "id": "pUjQMzOEPQOG",
        "colab_type": "code",
        "outputId": "b2c8292b-0649-4e15-efc7-c09cf46ab598",
        "colab": {
          "base_uri": "https://localhost:8080/",
          "height": 510
        }
      },
      "source": [
        "dt3_preds=dt_max_3.predict(test_X)\n",
        "dt3_preds"
      ],
      "execution_count": 0,
      "outputs": [
        {
          "output_type": "execute_result",
          "data": {
            "text/plain": [
              "array(['Y', 'Y', 'Y', 'Y', 'Y', 'Y', 'Y', 'N', 'Y', 'Y', 'Y', 'Y', 'Y',\n",
              "       'N', 'Y', 'Y', 'Y', 'Y', 'Y', 'Y', 'Y', 'Y', 'Y', 'Y', 'Y', 'N',\n",
              "       'Y', 'Y', 'Y', 'Y', 'Y', 'Y', 'Y', 'Y', 'Y', 'N', 'Y', 'Y', 'Y',\n",
              "       'Y', 'Y', 'Y', 'Y', 'Y', 'Y', 'N', 'Y', 'Y', 'Y', 'Y', 'Y', 'Y',\n",
              "       'Y', 'Y', 'Y', 'N', 'Y', 'Y', 'N', 'Y', 'Y', 'Y', 'Y', 'N', 'Y',\n",
              "       'Y', 'N', 'N', 'Y', 'N', 'Y', 'Y', 'Y', 'Y', 'Y', 'Y', 'Y', 'Y',\n",
              "       'Y', 'Y', 'N', 'Y', 'N', 'Y', 'N', 'Y', 'Y', 'Y', 'Y', 'Y', 'Y',\n",
              "       'Y', 'Y', 'Y', 'N', 'Y', 'Y', 'Y', 'Y', 'N', 'Y', 'N', 'Y', 'Y',\n",
              "       'Y', 'Y', 'N', 'Y', 'Y', 'Y', 'Y', 'Y', 'Y', 'Y', 'Y', 'Y', 'Y',\n",
              "       'N', 'N', 'N', 'Y', 'Y', 'Y', 'N', 'N', 'Y', 'N', 'Y', 'Y', 'Y',\n",
              "       'Y', 'Y', 'Y', 'Y', 'Y', 'Y', 'Y', 'Y', 'Y', 'Y', 'N', 'Y', 'N',\n",
              "       'N', 'Y', 'Y', 'Y', 'N', 'Y', 'Y', 'Y', 'Y', 'Y', 'N', 'Y', 'Y',\n",
              "       'Y', 'Y', 'Y', 'Y', 'Y', 'N', 'Y', 'Y', 'Y', 'N', 'N', 'Y', 'N',\n",
              "       'Y', 'Y', 'Y', 'Y', 'N', 'N', 'Y', 'Y', 'Y', 'Y', 'N', 'Y', 'Y',\n",
              "       'Y', 'Y', 'Y', 'Y', 'Y', 'Y', 'Y', 'Y', 'Y', 'Y', 'N', 'N', 'Y',\n",
              "       'Y', 'N', 'Y', 'N', 'Y', 'Y', 'Y', 'Y', 'Y', 'Y', 'Y', 'Y', 'Y',\n",
              "       'Y', 'Y', 'Y', 'N', 'Y', 'Y', 'Y', 'Y', 'Y', 'Y', 'Y', 'Y', 'Y',\n",
              "       'Y', 'Y', 'Y', 'N', 'Y', 'Y', 'Y', 'Y', 'N', 'N', 'Y', 'Y', 'Y',\n",
              "       'Y', 'N', 'N', 'Y', 'Y', 'Y', 'Y', 'N', 'Y', 'N', 'Y', 'N', 'Y',\n",
              "       'Y', 'Y', 'Y', 'N', 'Y', 'Y', 'Y', 'Y', 'N', 'Y', 'Y', 'Y', 'Y',\n",
              "       'Y', 'Y', 'Y', 'Y', 'Y', 'Y', 'N', 'Y', 'N', 'Y', 'Y', 'Y', 'Y',\n",
              "       'N', 'N', 'Y', 'Y', 'Y', 'N', 'Y', 'Y', 'Y', 'Y', 'Y', 'Y', 'Y',\n",
              "       'Y', 'Y', 'Y', 'Y', 'Y', 'Y', 'Y', 'N', 'Y', 'Y', 'Y', 'Y', 'Y',\n",
              "       'Y', 'Y', 'N', 'Y', 'Y', 'Y', 'N', 'Y', 'Y', 'Y', 'Y', 'Y', 'N',\n",
              "       'Y', 'Y', 'Y', 'Y', 'Y', 'N', 'Y', 'Y', 'Y', 'Y', 'Y', 'Y', 'Y',\n",
              "       'N', 'Y', 'Y', 'Y', 'Y', 'Y', 'Y', 'Y', 'Y', 'Y', 'Y', 'Y', 'Y',\n",
              "       'Y', 'N', 'Y', 'Y', 'Y', 'Y', 'Y', 'Y', 'N', 'Y', 'Y', 'Y', 'Y',\n",
              "       'Y', 'Y', 'Y', 'N', 'Y', 'Y', 'Y', 'Y', 'Y', 'Y', 'Y', 'Y', 'Y',\n",
              "       'Y', 'Y', 'Y'], dtype=object)"
            ]
          },
          "metadata": {
            "tags": []
          },
          "execution_count": 208
        }
      ]
    },
    {
      "cell_type": "code",
      "metadata": {
        "id": "s1spW4MiQCed",
        "colab_type": "code",
        "colab": {}
      },
      "source": [
        "sub['Loan_Status']=dt3_preds\n",
        "sub.to_csv('dt_md_3.csv',index=False)"
      ],
      "execution_count": 0,
      "outputs": []
    },
    {
      "cell_type": "code",
      "metadata": {
        "id": "cMJStN3-QQf8",
        "colab_type": "code",
        "outputId": "026fb009-4339-48dd-f0c6-57d350ee24c3",
        "colab": {
          "base_uri": "https://localhost:8080/",
          "height": 255
        }
      },
      "source": [
        "dt.get_params()"
      ],
      "execution_count": 0,
      "outputs": [
        {
          "output_type": "execute_result",
          "data": {
            "text/plain": [
              "{'ccp_alpha': 0.0,\n",
              " 'class_weight': None,\n",
              " 'criterion': 'gini',\n",
              " 'max_depth': None,\n",
              " 'max_features': None,\n",
              " 'max_leaf_nodes': None,\n",
              " 'min_impurity_decrease': 0.0,\n",
              " 'min_impurity_split': None,\n",
              " 'min_samples_leaf': 1,\n",
              " 'min_samples_split': 2,\n",
              " 'min_weight_fraction_leaf': 0.0,\n",
              " 'presort': 'deprecated',\n",
              " 'random_state': None,\n",
              " 'splitter': 'best'}"
            ]
          },
          "metadata": {
            "tags": []
          },
          "execution_count": 210
        }
      ]
    },
    {
      "cell_type": "code",
      "metadata": {
        "id": "aMWja-fQSPcq",
        "colab_type": "code",
        "outputId": "cffa1c31-342a-47e6-ae1e-75163279a4b0",
        "colab": {
          "base_uri": "https://localhost:8080/",
          "height": 1000
        }
      },
      "source": [
        "for i in [0.2,0.4,0.6,0.8,1.0]:\n",
        "    print(\"max_features:\",i)\n",
        "    build_model(DecisionTreeClassifier(max_depth=3,max_features=i,random_state=42),X_train,X_test,y_train,y_test)\n",
        "    print(\"*\"*50)"
      ],
      "execution_count": 0,
      "outputs": [
        {
          "output_type": "stream",
          "text": [
            "max_features: 0.2\n",
            "[[16 22]\n",
            " [10 75]]\n",
            "              precision    recall  f1-score   support\n",
            "\n",
            "           N       0.62      0.42      0.50        38\n",
            "           Y       0.77      0.88      0.82        85\n",
            "\n",
            "    accuracy                           0.74       123\n",
            "   macro avg       0.69      0.65      0.66       123\n",
            "weighted avg       0.72      0.74      0.72       123\n",
            "\n",
            "Training accuracy: :  0.7739307535641547\n",
            "Testing  accuracy: :  0.7398373983739838\n",
            "Cross validation Log Loss: 0.7289795918367347\n",
            "ROC_AUC-score: 0.651702786377709\n",
            "**************************************************\n",
            "max_features: 0.4\n",
            "[[16 22]\n",
            " [ 2 83]]\n",
            "              precision    recall  f1-score   support\n",
            "\n",
            "           N       0.89      0.42      0.57        38\n",
            "           Y       0.79      0.98      0.87        85\n",
            "\n",
            "    accuracy                           0.80       123\n",
            "   macro avg       0.84      0.70      0.72       123\n",
            "weighted avg       0.82      0.80      0.78       123\n",
            "\n",
            "Training accuracy: :  0.8105906313645621\n",
            "Testing  accuracy: :  0.8048780487804879\n",
            "Cross validation Log Loss: 0.7881224489795918\n",
            "ROC_AUC-score: 0.6987616099071208\n",
            "**************************************************\n",
            "max_features: 0.6\n",
            "[[18 20]\n",
            " [ 3 82]]\n",
            "              precision    recall  f1-score   support\n",
            "\n",
            "           N       0.86      0.47      0.61        38\n",
            "           Y       0.80      0.96      0.88        85\n",
            "\n",
            "    accuracy                           0.81       123\n",
            "   macro avg       0.83      0.72      0.74       123\n",
            "weighted avg       0.82      0.81      0.79       123\n",
            "\n",
            "Training accuracy: :  0.814663951120163\n",
            "Testing  accuracy: :  0.8130081300813008\n",
            "Cross validation Log Loss: 0.8003673469387756\n",
            "ROC_AUC-score: 0.7191950464396285\n",
            "**************************************************\n",
            "max_features: 0.8\n",
            "[[17 21]\n",
            " [ 1 84]]\n",
            "              precision    recall  f1-score   support\n",
            "\n",
            "           N       0.94      0.45      0.61        38\n",
            "           Y       0.80      0.99      0.88        85\n",
            "\n",
            "    accuracy                           0.82       123\n",
            "   macro avg       0.87      0.72      0.75       123\n",
            "weighted avg       0.84      0.82      0.80       123\n",
            "\n",
            "Training accuracy: :  0.8126272912423625\n",
            "Testing  accuracy: :  0.8211382113821138\n",
            "Cross validation Log Loss: 0.7901632653061225\n",
            "ROC_AUC-score: 0.7178018575851393\n",
            "**************************************************\n",
            "max_features: 1.0\n",
            "[[17 21]\n",
            " [ 2 83]]\n",
            "              precision    recall  f1-score   support\n",
            "\n",
            "           N       0.89      0.45      0.60        38\n",
            "           Y       0.80      0.98      0.88        85\n",
            "\n",
            "    accuracy                           0.81       123\n",
            "   macro avg       0.85      0.71      0.74       123\n",
            "weighted avg       0.83      0.81      0.79       123\n",
            "\n",
            "Training accuracy: :  0.8167006109979633\n",
            "Testing  accuracy: :  0.8130081300813008\n",
            "Cross validation Log Loss: 0.7962857142857144\n",
            "ROC_AUC-score: 0.7119195046439628\n",
            "**************************************************\n"
          ],
          "name": "stdout"
        }
      ]
    },
    {
      "cell_type": "code",
      "metadata": {
        "id": "zZg9yuAKS4ol",
        "colab_type": "code",
        "outputId": "c1adab73-9352-49bf-dc67-93c485ef324e",
        "colab": {
          "base_uri": "https://localhost:8080/",
          "height": 272
        }
      },
      "source": [
        "dtmd_3_mf_06=DecisionTreeClassifier(max_depth=3,max_features=0.6,random_state=42)\n",
        "build_model(dtmd_3_mf_06,X_train,X_test,y_train,y_test)\n",
        "\n",
        "test_preds=dtmd_3_mf_06.predict(test_X)\n",
        "\n",
        "sub['Loan_Status']=test_preds\n",
        "sub.to_csv('dtmd_3_mf_06.csv',index=False)"
      ],
      "execution_count": 0,
      "outputs": [
        {
          "output_type": "stream",
          "text": [
            "[[18 20]\n",
            " [ 3 82]]\n",
            "              precision    recall  f1-score   support\n",
            "\n",
            "           N       0.86      0.47      0.61        38\n",
            "           Y       0.80      0.96      0.88        85\n",
            "\n",
            "    accuracy                           0.81       123\n",
            "   macro avg       0.83      0.72      0.74       123\n",
            "weighted avg       0.82      0.81      0.79       123\n",
            "\n",
            "Training accuracy: :  0.814663951120163\n",
            "Testing  accuracy: :  0.8130081300813008\n",
            "Cross validation Log Loss: 0.8003673469387756\n",
            "ROC_AUC-score: 0.7191950464396285\n"
          ],
          "name": "stdout"
        }
      ]
    },
    {
      "cell_type": "markdown",
      "metadata": {
        "id": "Bmw1LzZrUSB4",
        "colab_type": "text"
      },
      "source": [
        "# RandomForestClassifier"
      ]
    },
    {
      "cell_type": "code",
      "metadata": {
        "id": "0OC8HoeWTtnC",
        "colab_type": "code",
        "outputId": "558eb883-36b7-4280-f465-c6b015085e51",
        "colab": {
          "base_uri": "https://localhost:8080/",
          "height": 272
        }
      },
      "source": [
        "rf=RandomForestClassifier(random_state=42)\n",
        "build_model(rf,X_train, X_test, y_train, y_test)"
      ],
      "execution_count": 0,
      "outputs": [
        {
          "output_type": "stream",
          "text": [
            "[[18 20]\n",
            " [ 4 81]]\n",
            "              precision    recall  f1-score   support\n",
            "\n",
            "           N       0.82      0.47      0.60        38\n",
            "           Y       0.80      0.95      0.87        85\n",
            "\n",
            "    accuracy                           0.80       123\n",
            "   macro avg       0.81      0.71      0.74       123\n",
            "weighted avg       0.81      0.80      0.79       123\n",
            "\n",
            "Training accuracy: :  1.0\n",
            "Testing  accuracy: :  0.8048780487804879\n",
            "Cross validation Log Loss: 0.7718775510204081\n",
            "ROC_AUC-score: 0.7133126934984519\n"
          ],
          "name": "stdout"
        }
      ]
    },
    {
      "cell_type": "code",
      "metadata": {
        "id": "LQ4lt_0KUZfZ",
        "colab_type": "code",
        "colab": {}
      },
      "source": [
        "test_preds=rf.predict(test_X)\n",
        "\n",
        "sub['Loan_Status']=test_preds\n",
        "sub.to_csv('simple_rf.csv',index=False)"
      ],
      "execution_count": 0,
      "outputs": []
    },
    {
      "cell_type": "code",
      "metadata": {
        "id": "RraPO3SZa-ac",
        "colab_type": "code",
        "outputId": "b9a574e1-6dd4-43af-a70f-3123c2ec423a",
        "colab": {
          "base_uri": "https://localhost:8080/",
          "height": 1000
        }
      },
      "source": [
        "for est in range(100,1000,100):\n",
        "    print(\"Estimators:\",est)\n",
        "    build_model(RandomForestClassifier(random_state=42,max_depth=3,n_estimators=est), X_train, X_test, y_train, y_test)\n",
        "    print(\"*\"*50)"
      ],
      "execution_count": 0,
      "outputs": [
        {
          "output_type": "stream",
          "text": [
            "Estimators: 100\n",
            "[[14 24]\n",
            " [ 2 83]]\n",
            "              precision    recall  f1-score   support\n",
            "\n",
            "           N       0.88      0.37      0.52        38\n",
            "           Y       0.78      0.98      0.86        85\n",
            "\n",
            "    accuracy                           0.79       123\n",
            "   macro avg       0.83      0.67      0.69       123\n",
            "weighted avg       0.81      0.79      0.76       123\n",
            "\n",
            "Training accuracy: :  0.7983706720977597\n",
            "Testing  accuracy: :  0.7886178861788617\n",
            "Cross validation Log Loss: 0.7596326530612244\n",
            "ROC_AUC-score: 0.6724458204334366\n",
            "**************************************************\n",
            "Estimators: 200\n",
            "[[13 25]\n",
            " [ 1 84]]\n",
            "              precision    recall  f1-score   support\n",
            "\n",
            "           N       0.93      0.34      0.50        38\n",
            "           Y       0.77      0.99      0.87        85\n",
            "\n",
            "    accuracy                           0.79       123\n",
            "   macro avg       0.85      0.67      0.68       123\n",
            "weighted avg       0.82      0.79      0.75       123\n",
            "\n",
            "Training accuracy: :  0.8004073319755601\n",
            "Testing  accuracy: :  0.7886178861788617\n",
            "Cross validation Log Loss: 0.7637551020408162\n",
            "ROC_AUC-score: 0.6651702786377709\n",
            "**************************************************\n",
            "Estimators: 300\n",
            "[[15 23]\n",
            " [ 1 84]]\n",
            "              precision    recall  f1-score   support\n",
            "\n",
            "           N       0.94      0.39      0.56        38\n",
            "           Y       0.79      0.99      0.88        85\n",
            "\n",
            "    accuracy                           0.80       123\n",
            "   macro avg       0.86      0.69      0.72       123\n",
            "weighted avg       0.83      0.80      0.78       123\n",
            "\n",
            "Training accuracy: :  0.7942973523421588\n",
            "Testing  accuracy: :  0.8048780487804879\n",
            "Cross validation Log Loss: 0.7616734693877552\n",
            "ROC_AUC-score: 0.6914860681114552\n",
            "**************************************************\n",
            "Estimators: 400\n",
            "[[14 24]\n",
            " [ 1 84]]\n",
            "              precision    recall  f1-score   support\n",
            "\n",
            "           N       0.93      0.37      0.53        38\n",
            "           Y       0.78      0.99      0.87        85\n",
            "\n",
            "    accuracy                           0.80       123\n",
            "   macro avg       0.86      0.68      0.70       123\n",
            "weighted avg       0.83      0.80      0.76       123\n",
            "\n",
            "Training accuracy: :  0.7963340122199593\n",
            "Testing  accuracy: :  0.7967479674796748\n",
            "Cross validation Log Loss: 0.765795918367347\n",
            "ROC_AUC-score: 0.678328173374613\n",
            "**************************************************\n",
            "Estimators: 500\n",
            "[[15 23]\n",
            " [ 1 84]]\n",
            "              precision    recall  f1-score   support\n",
            "\n",
            "           N       0.94      0.39      0.56        38\n",
            "           Y       0.79      0.99      0.88        85\n",
            "\n",
            "    accuracy                           0.80       123\n",
            "   macro avg       0.86      0.69      0.72       123\n",
            "weighted avg       0.83      0.80      0.78       123\n",
            "\n",
            "Training accuracy: :  0.7963340122199593\n",
            "Testing  accuracy: :  0.8048780487804879\n",
            "Cross validation Log Loss: 0.7657959183673468\n",
            "ROC_AUC-score: 0.6914860681114552\n",
            "**************************************************\n",
            "Estimators: 600\n",
            "[[14 24]\n",
            " [ 1 84]]\n",
            "              precision    recall  f1-score   support\n",
            "\n",
            "           N       0.93      0.37      0.53        38\n",
            "           Y       0.78      0.99      0.87        85\n",
            "\n",
            "    accuracy                           0.80       123\n",
            "   macro avg       0.86      0.68      0.70       123\n",
            "weighted avg       0.83      0.80      0.76       123\n",
            "\n",
            "Training accuracy: :  0.7963340122199593\n",
            "Testing  accuracy: :  0.7967479674796748\n",
            "Cross validation Log Loss: 0.7597142857142857\n",
            "ROC_AUC-score: 0.678328173374613\n",
            "**************************************************\n",
            "Estimators: 700\n",
            "[[13 25]\n",
            " [ 1 84]]\n",
            "              precision    recall  f1-score   support\n",
            "\n",
            "           N       0.93      0.34      0.50        38\n",
            "           Y       0.77      0.99      0.87        85\n",
            "\n",
            "    accuracy                           0.79       123\n",
            "   macro avg       0.85      0.67      0.68       123\n",
            "weighted avg       0.82      0.79      0.75       123\n",
            "\n",
            "Training accuracy: :  0.7963340122199593\n",
            "Testing  accuracy: :  0.7886178861788617\n",
            "Cross validation Log Loss: 0.7637959183673468\n",
            "ROC_AUC-score: 0.6651702786377709\n",
            "**************************************************\n",
            "Estimators: 800\n",
            "[[15 23]\n",
            " [ 1 84]]\n",
            "              precision    recall  f1-score   support\n",
            "\n",
            "           N       0.94      0.39      0.56        38\n",
            "           Y       0.79      0.99      0.88        85\n",
            "\n",
            "    accuracy                           0.80       123\n",
            "   macro avg       0.86      0.69      0.72       123\n",
            "weighted avg       0.83      0.80      0.78       123\n",
            "\n",
            "Training accuracy: :  0.7983706720977597\n",
            "Testing  accuracy: :  0.8048780487804879\n",
            "Cross validation Log Loss: 0.7658367346938775\n",
            "ROC_AUC-score: 0.6914860681114552\n",
            "**************************************************\n",
            "Estimators: 900\n",
            "[[15 23]\n",
            " [ 1 84]]\n",
            "              precision    recall  f1-score   support\n",
            "\n",
            "           N       0.94      0.39      0.56        38\n",
            "           Y       0.79      0.99      0.88        85\n",
            "\n",
            "    accuracy                           0.80       123\n",
            "   macro avg       0.86      0.69      0.72       123\n",
            "weighted avg       0.83      0.80      0.78       123\n",
            "\n",
            "Training accuracy: :  0.8024439918533605\n",
            "Testing  accuracy: :  0.8048780487804879\n",
            "Cross validation Log Loss: 0.7637959183673468\n",
            "ROC_AUC-score: 0.6914860681114552\n",
            "**************************************************\n"
          ],
          "name": "stdout"
        }
      ]
    },
    {
      "cell_type": "code",
      "metadata": {
        "id": "0S2wG3wMbWz2",
        "colab_type": "code",
        "outputId": "d55bbf72-864b-4700-e62b-8ad4e1e40e96",
        "colab": {
          "base_uri": "https://localhost:8080/",
          "height": 1000
        }
      },
      "source": [
        "for depth in range(1,20):\n",
        "    print(\"max_depth:\",depth)\n",
        "    build_model(RandomForestClassifier(random_state=42,max_depth=depth,n_estimators=300), X_train, X_test, y_train, y_test)\n",
        "    print(\"*\"*50)"
      ],
      "execution_count": 0,
      "outputs": [
        {
          "output_type": "stream",
          "text": [
            "max_depth: 1\n",
            "[[ 0 38]\n",
            " [ 0 85]]\n",
            "              precision    recall  f1-score   support\n",
            "\n",
            "           N       0.00      0.00      0.00        38\n",
            "           Y       0.69      1.00      0.82        85\n",
            "\n",
            "    accuracy                           0.69       123\n",
            "   macro avg       0.35      0.50      0.41       123\n",
            "weighted avg       0.48      0.69      0.56       123\n",
            "\n",
            "Training accuracy: :  0.6863543788187373\n",
            "Testing  accuracy: :  0.6910569105691057\n"
          ],
          "name": "stdout"
        },
        {
          "output_type": "stream",
          "text": [
            "/usr/local/lib/python3.6/dist-packages/sklearn/metrics/_classification.py:1272: UndefinedMetricWarning: Precision and F-score are ill-defined and being set to 0.0 in labels with no predicted samples. Use `zero_division` parameter to control this behavior.\n",
            "  _warn_prf(average, modifier, msg_start, len(result))\n"
          ],
          "name": "stderr"
        },
        {
          "output_type": "stream",
          "text": [
            "Cross validation Log Loss: 0.6863673469387754\n",
            "ROC_AUC-score: 0.5\n",
            "**************************************************\n",
            "max_depth: 2\n",
            "[[ 1 37]\n",
            " [ 1 84]]\n",
            "              precision    recall  f1-score   support\n",
            "\n",
            "           N       0.50      0.03      0.05        38\n",
            "           Y       0.69      0.99      0.82        85\n",
            "\n",
            "    accuracy                           0.69       123\n",
            "   macro avg       0.60      0.51      0.43       123\n",
            "weighted avg       0.63      0.69      0.58       123\n",
            "\n",
            "Training accuracy: :  0.7026476578411406\n",
            "Testing  accuracy: :  0.6910569105691057\n",
            "Cross validation Log Loss: 0.6986122448979593\n",
            "ROC_AUC-score: 0.5072755417956656\n",
            "**************************************************\n",
            "max_depth: 3\n",
            "[[15 23]\n",
            " [ 1 84]]\n",
            "              precision    recall  f1-score   support\n",
            "\n",
            "           N       0.94      0.39      0.56        38\n",
            "           Y       0.79      0.99      0.88        85\n",
            "\n",
            "    accuracy                           0.80       123\n",
            "   macro avg       0.86      0.69      0.72       123\n",
            "weighted avg       0.83      0.80      0.78       123\n",
            "\n",
            "Training accuracy: :  0.7942973523421588\n",
            "Testing  accuracy: :  0.8048780487804879\n",
            "Cross validation Log Loss: 0.7616734693877552\n",
            "ROC_AUC-score: 0.6914860681114552\n",
            "**************************************************\n",
            "max_depth: 4\n",
            "[[17 21]\n",
            " [ 2 83]]\n",
            "              precision    recall  f1-score   support\n",
            "\n",
            "           N       0.89      0.45      0.60        38\n",
            "           Y       0.80      0.98      0.88        85\n",
            "\n",
            "    accuracy                           0.81       123\n",
            "   macro avg       0.85      0.71      0.74       123\n",
            "weighted avg       0.83      0.81      0.79       123\n",
            "\n",
            "Training accuracy: :  0.8228105906313645\n",
            "Testing  accuracy: :  0.8130081300813008\n",
            "Cross validation Log Loss: 0.7861224489795917\n",
            "ROC_AUC-score: 0.7119195046439628\n",
            "**************************************************\n",
            "max_depth: 5\n",
            "[[17 21]\n",
            " [ 2 83]]\n",
            "              precision    recall  f1-score   support\n",
            "\n",
            "           N       0.89      0.45      0.60        38\n",
            "           Y       0.80      0.98      0.88        85\n",
            "\n",
            "    accuracy                           0.81       123\n",
            "   macro avg       0.85      0.71      0.74       123\n",
            "weighted avg       0.83      0.81      0.79       123\n",
            "\n",
            "Training accuracy: :  0.835030549898167\n",
            "Testing  accuracy: :  0.8130081300813008\n",
            "Cross validation Log Loss: 0.7962857142857143\n",
            "ROC_AUC-score: 0.7119195046439628\n",
            "**************************************************\n",
            "max_depth: 6\n",
            "[[17 21]\n",
            " [ 3 82]]\n",
            "              precision    recall  f1-score   support\n",
            "\n",
            "           N       0.85      0.45      0.59        38\n",
            "           Y       0.80      0.96      0.87        85\n",
            "\n",
            "    accuracy                           0.80       123\n",
            "   macro avg       0.82      0.71      0.73       123\n",
            "weighted avg       0.81      0.80      0.78       123\n",
            "\n",
            "Training accuracy: :  0.845213849287169\n",
            "Testing  accuracy: :  0.8048780487804879\n",
            "Cross validation Log Loss: 0.7881224489795919\n",
            "ROC_AUC-score: 0.7060371517027864\n",
            "**************************************************\n",
            "max_depth: 7\n",
            "[[17 21]\n",
            " [ 2 83]]\n",
            "              precision    recall  f1-score   support\n",
            "\n",
            "           N       0.89      0.45      0.60        38\n",
            "           Y       0.80      0.98      0.88        85\n",
            "\n",
            "    accuracy                           0.81       123\n",
            "   macro avg       0.85      0.71      0.74       123\n",
            "weighted avg       0.83      0.81      0.79       123\n",
            "\n",
            "Training accuracy: :  0.8716904276985743\n",
            "Testing  accuracy: :  0.8130081300813008\n",
            "Cross validation Log Loss: 0.7922040816326531\n",
            "ROC_AUC-score: 0.7119195046439628\n",
            "**************************************************\n",
            "max_depth: 8\n",
            "[[17 21]\n",
            " [ 4 81]]\n",
            "              precision    recall  f1-score   support\n",
            "\n",
            "           N       0.81      0.45      0.58        38\n",
            "           Y       0.79      0.95      0.87        85\n",
            "\n",
            "    accuracy                           0.80       123\n",
            "   macro avg       0.80      0.70      0.72       123\n",
            "weighted avg       0.80      0.80      0.78       123\n",
            "\n",
            "Training accuracy: :  0.8920570264765784\n",
            "Testing  accuracy: :  0.7967479674796748\n",
            "Cross validation Log Loss: 0.7881224489795917\n",
            "ROC_AUC-score: 0.7001547987616099\n",
            "**************************************************\n",
            "max_depth: 9\n",
            "[[17 21]\n",
            " [ 4 81]]\n",
            "              precision    recall  f1-score   support\n",
            "\n",
            "           N       0.81      0.45      0.58        38\n",
            "           Y       0.79      0.95      0.87        85\n",
            "\n",
            "    accuracy                           0.80       123\n",
            "   macro avg       0.80      0.70      0.72       123\n",
            "weighted avg       0.80      0.80      0.78       123\n",
            "\n",
            "Training accuracy: :  0.9226069246435845\n",
            "Testing  accuracy: :  0.7967479674796748\n",
            "Cross validation Log Loss: 0.7860816326530612\n",
            "ROC_AUC-score: 0.7001547987616099\n",
            "**************************************************\n",
            "max_depth: 10\n",
            "[[18 20]\n",
            " [ 4 81]]\n",
            "              precision    recall  f1-score   support\n",
            "\n",
            "           N       0.82      0.47      0.60        38\n",
            "           Y       0.80      0.95      0.87        85\n",
            "\n",
            "    accuracy                           0.80       123\n",
            "   macro avg       0.81      0.71      0.74       123\n",
            "weighted avg       0.81      0.80      0.79       123\n",
            "\n",
            "Training accuracy: :  0.945010183299389\n",
            "Testing  accuracy: :  0.8048780487804879\n",
            "Cross validation Log Loss: 0.7820816326530611\n",
            "ROC_AUC-score: 0.7133126934984519\n",
            "**************************************************\n",
            "max_depth: 11\n",
            "[[17 21]\n",
            " [ 4 81]]\n",
            "              precision    recall  f1-score   support\n",
            "\n",
            "           N       0.81      0.45      0.58        38\n",
            "           Y       0.79      0.95      0.87        85\n",
            "\n",
            "    accuracy                           0.80       123\n",
            "   macro avg       0.80      0.70      0.72       123\n",
            "weighted avg       0.80      0.80      0.78       123\n",
            "\n",
            "Training accuracy: :  0.9592668024439919\n",
            "Testing  accuracy: :  0.7967479674796748\n",
            "Cross validation Log Loss: 0.78\n",
            "ROC_AUC-score: 0.7001547987616099\n",
            "**************************************************\n",
            "max_depth: 12\n",
            "[[18 20]\n",
            " [ 4 81]]\n",
            "              precision    recall  f1-score   support\n",
            "\n",
            "           N       0.82      0.47      0.60        38\n",
            "           Y       0.80      0.95      0.87        85\n",
            "\n",
            "    accuracy                           0.80       123\n",
            "   macro avg       0.81      0.71      0.74       123\n",
            "weighted avg       0.81      0.80      0.79       123\n",
            "\n",
            "Training accuracy: :  0.9714867617107943\n",
            "Testing  accuracy: :  0.8048780487804879\n",
            "Cross validation Log Loss: 0.778\n",
            "ROC_AUC-score: 0.7133126934984519\n",
            "**************************************************\n",
            "max_depth: 13\n",
            "[[19 19]\n",
            " [ 5 80]]\n",
            "              precision    recall  f1-score   support\n",
            "\n",
            "           N       0.79      0.50      0.61        38\n",
            "           Y       0.81      0.94      0.87        85\n",
            "\n",
            "    accuracy                           0.80       123\n",
            "   macro avg       0.80      0.72      0.74       123\n",
            "weighted avg       0.80      0.80      0.79       123\n",
            "\n",
            "Training accuracy: :  0.9938900203665988\n",
            "Testing  accuracy: :  0.8048780487804879\n",
            "Cross validation Log Loss: 0.7779999999999999\n",
            "ROC_AUC-score: 0.7205882352941176\n",
            "**************************************************\n",
            "max_depth: 14\n",
            "[[19 19]\n",
            " [ 6 79]]\n",
            "              precision    recall  f1-score   support\n",
            "\n",
            "           N       0.76      0.50      0.60        38\n",
            "           Y       0.81      0.93      0.86        85\n",
            "\n",
            "    accuracy                           0.80       123\n",
            "   macro avg       0.78      0.71      0.73       123\n",
            "weighted avg       0.79      0.80      0.78       123\n",
            "\n",
            "Training accuracy: :  0.9979633401221996\n",
            "Testing  accuracy: :  0.7967479674796748\n",
            "Cross validation Log Loss: 0.7739183673469389\n",
            "ROC_AUC-score: 0.7147058823529412\n",
            "**************************************************\n",
            "max_depth: 15\n",
            "[[18 20]\n",
            " [ 5 80]]\n",
            "              precision    recall  f1-score   support\n",
            "\n",
            "           N       0.78      0.47      0.59        38\n",
            "           Y       0.80      0.94      0.86        85\n",
            "\n",
            "    accuracy                           0.80       123\n",
            "   macro avg       0.79      0.71      0.73       123\n",
            "weighted avg       0.79      0.80      0.78       123\n",
            "\n",
            "Training accuracy: :  1.0\n",
            "Testing  accuracy: :  0.7967479674796748\n",
            "Cross validation Log Loss: 0.7718775510204081\n",
            "ROC_AUC-score: 0.7074303405572755\n",
            "**************************************************\n",
            "max_depth: 16\n",
            "[[19 19]\n",
            " [ 3 82]]\n",
            "              precision    recall  f1-score   support\n",
            "\n",
            "           N       0.86      0.50      0.63        38\n",
            "           Y       0.81      0.96      0.88        85\n",
            "\n",
            "    accuracy                           0.82       123\n",
            "   macro avg       0.84      0.73      0.76       123\n",
            "weighted avg       0.83      0.82      0.80       123\n",
            "\n",
            "Training accuracy: :  1.0\n",
            "Testing  accuracy: :  0.8211382113821138\n",
            "Cross validation Log Loss: 0.7800408163265307\n",
            "ROC_AUC-score: 0.7323529411764707\n",
            "**************************************************\n",
            "max_depth: 17\n",
            "[[19 19]\n",
            " [ 6 79]]\n",
            "              precision    recall  f1-score   support\n",
            "\n",
            "           N       0.76      0.50      0.60        38\n",
            "           Y       0.81      0.93      0.86        85\n",
            "\n",
            "    accuracy                           0.80       123\n",
            "   macro avg       0.78      0.71      0.73       123\n",
            "weighted avg       0.79      0.80      0.78       123\n",
            "\n",
            "Training accuracy: :  1.0\n",
            "Testing  accuracy: :  0.7967479674796748\n",
            "Cross validation Log Loss: 0.7759591836734694\n",
            "ROC_AUC-score: 0.7147058823529412\n",
            "**************************************************\n",
            "max_depth: 18\n",
            "[[18 20]\n",
            " [ 4 81]]\n",
            "              precision    recall  f1-score   support\n",
            "\n",
            "           N       0.82      0.47      0.60        38\n",
            "           Y       0.80      0.95      0.87        85\n",
            "\n",
            "    accuracy                           0.80       123\n",
            "   macro avg       0.81      0.71      0.74       123\n",
            "weighted avg       0.81      0.80      0.79       123\n",
            "\n",
            "Training accuracy: :  1.0\n",
            "Testing  accuracy: :  0.8048780487804879\n",
            "Cross validation Log Loss: 0.7698775510204081\n",
            "ROC_AUC-score: 0.7133126934984519\n",
            "**************************************************\n",
            "max_depth: 19\n",
            "[[19 19]\n",
            " [ 4 81]]\n",
            "              precision    recall  f1-score   support\n",
            "\n",
            "           N       0.83      0.50      0.62        38\n",
            "           Y       0.81      0.95      0.88        85\n",
            "\n",
            "    accuracy                           0.81       123\n",
            "   macro avg       0.82      0.73      0.75       123\n",
            "weighted avg       0.81      0.81      0.80       123\n",
            "\n",
            "Training accuracy: :  1.0\n",
            "Testing  accuracy: :  0.8130081300813008\n",
            "Cross validation Log Loss: 0.7719183673469387\n",
            "ROC_AUC-score: 0.7264705882352941\n",
            "**************************************************\n"
          ],
          "name": "stdout"
        }
      ]
    },
    {
      "cell_type": "code",
      "metadata": {
        "id": "D4NANz98b7VH",
        "colab_type": "code",
        "outputId": "7863248f-1224-44e6-dc70-5e8ad2c5dac0",
        "colab": {
          "base_uri": "https://localhost:8080/",
          "height": 272
        }
      },
      "source": [
        "rfmd_5_est_300=RandomForestClassifier(random_state=42,max_depth=5,n_estimators=300)\n",
        "build_model(rfmd_5_est_300, X_train, X_test, y_train, y_test)\n",
        "\n",
        "test_preds=rfmd_5_est_300.predict(test_X)\n",
        "\n",
        "sub['Loan_Status']=test_preds\n",
        "sub.to_csv('rfmd_5_est_300.csv',index=False)"
      ],
      "execution_count": 0,
      "outputs": [
        {
          "output_type": "stream",
          "text": [
            "[[17 21]\n",
            " [ 2 83]]\n",
            "              precision    recall  f1-score   support\n",
            "\n",
            "           N       0.89      0.45      0.60        38\n",
            "           Y       0.80      0.98      0.88        85\n",
            "\n",
            "    accuracy                           0.81       123\n",
            "   macro avg       0.85      0.71      0.74       123\n",
            "weighted avg       0.83      0.81      0.79       123\n",
            "\n",
            "Training accuracy: :  0.835030549898167\n",
            "Testing  accuracy: :  0.8130081300813008\n",
            "Cross validation Log Loss: 0.7962857142857143\n",
            "ROC_AUC-score: 0.7119195046439628\n"
          ],
          "name": "stdout"
        }
      ]
    },
    {
      "cell_type": "code",
      "metadata": {
        "id": "sgGh0Cl-dBZ7",
        "colab_type": "code",
        "outputId": "a2121787-9cbb-4ad8-9fc4-25d23fab93ef",
        "colab": {
          "base_uri": "https://localhost:8080/",
          "height": 282
        }
      },
      "source": [
        "plt.barh(y=X_train.columns,width=rfmd_5_est_300.feature_importances_)"
      ],
      "execution_count": 0,
      "outputs": [
        {
          "output_type": "execute_result",
          "data": {
            "text/plain": [
              "<BarContainer object of 18 artists>"
            ]
          },
          "metadata": {
            "tags": []
          },
          "execution_count": 222
        },
        {
          "output_type": "display_data",
          "data": {
            "image/png": "[encoded data removed]",
            "text/plain": [
              "<Figure size 432x288 with 1 Axes>"
            ]
          },
          "metadata": {
            "tags": [],
            "needs_background": "light"
          }
        }
      ]
    },
    {
      "cell_type": "markdown",
      "metadata": {
        "id": "4KnNoKkPd36R",
        "colab_type": "text"
      },
      "source": [
        "# GradientBoosting"
      ]
    },
    {
      "cell_type": "code",
      "metadata": {
        "id": "nw_moQnedhan",
        "colab_type": "code",
        "outputId": "f24c6b76-df39-4920-c2db-902c27db1155",
        "colab": {
          "base_uri": "https://localhost:8080/",
          "height": 272
        }
      },
      "source": [
        "gb=GradientBoostingClassifier(random_state=42)\n",
        "build_model(gb, X_train, X_test, y_train, y_test)\n",
        "\n",
        "test_preds=gb.predict(test_X)\n",
        "\n",
        "sub['Loan_Status']=test_preds\n",
        "sub.to_csv('gb.csv',index=False)"
      ],
      "execution_count": 0,
      "outputs": [
        {
          "output_type": "stream",
          "text": [
            "[[21 17]\n",
            " [ 8 77]]\n",
            "              precision    recall  f1-score   support\n",
            "\n",
            "           N       0.72      0.55      0.63        38\n",
            "           Y       0.82      0.91      0.86        85\n",
            "\n",
            "    accuracy                           0.80       123\n",
            "   macro avg       0.77      0.73      0.74       123\n",
            "weighted avg       0.79      0.80      0.79       123\n",
            "\n",
            "Training accuracy: :  0.9103869653767821\n",
            "Testing  accuracy: :  0.7967479674796748\n",
            "Cross validation Log Loss: 0.7656734693877549\n",
            "ROC_AUC-score: 0.7292569659442724\n"
          ],
          "name": "stdout"
        }
      ]
    },
    {
      "cell_type": "markdown",
      "metadata": {
        "id": "FYb5gKyIeabz",
        "colab_type": "text"
      },
      "source": [
        "# XGBOOST"
      ]
    },
    {
      "cell_type": "code",
      "metadata": {
        "id": "sJU7dKjceZnc",
        "colab_type": "code",
        "outputId": "2c515715-9258-4398-fef8-895a18a97340",
        "colab": {
          "base_uri": "https://localhost:8080/",
          "height": 272
        }
      },
      "source": [
        "xg=XGBClassifier(random_state=42)\n",
        "build_model(xg, X_train, X_test, y_train, y_test)\n",
        "\n",
        "test_preds=xg.predict(test_X)\n",
        "\n",
        "sub['Loan_Status']=test_preds\n",
        "sub.to_csv('xg_simple.csv',index=False)"
      ],
      "execution_count": 0,
      "outputs": [
        {
          "output_type": "stream",
          "text": [
            "[[19 19]\n",
            " [ 7 78]]\n",
            "              precision    recall  f1-score   support\n",
            "\n",
            "           N       0.73      0.50      0.59        38\n",
            "           Y       0.80      0.92      0.86        85\n",
            "\n",
            "    accuracy                           0.79       123\n",
            "   macro avg       0.77      0.71      0.73       123\n",
            "weighted avg       0.78      0.79      0.78       123\n",
            "\n",
            "Training accuracy: :  0.869653767820774\n",
            "Testing  accuracy: :  0.7886178861788617\n",
            "Cross validation Log Loss: 0.767673469387755\n",
            "ROC_AUC-score: 0.7088235294117646\n"
          ],
          "name": "stdout"
        }
      ]
    },
    {
      "cell_type": "code",
      "metadata": {
        "id": "ykQxuE41d_u-",
        "colab_type": "code",
        "colab": {}
      },
      "source": [
        "test_check=X_test.copy()\n",
        "test_check['predicted']=xg.predict(X_test)\n",
        "test_check['acutal']=y_test"
      ],
      "execution_count": 0,
      "outputs": []
    },
    {
      "cell_type": "code",
      "metadata": {
        "id": "0NS596EPgc_z",
        "colab_type": "code",
        "outputId": "0a0bdfc4-db6f-4e14-d563-e97dbd58a576",
        "colab": {
          "base_uri": "https://localhost:8080/",
          "height": 675
        }
      },
      "source": [
        "test_check[(test_check['acutal']=='N') & (test_check['predicted']=='Y')]"
      ],
      "execution_count": 0,
      "outputs": [
        {
          "output_type": "execute_result",
          "data": {
            "text/html": [
              "<div>\n",
              "<style scoped>\n",
              "    .dataframe tbody tr th:only-of-type {\n",
              "        vertical-align: middle;\n",
              "    }\n",
              "\n",
              "    .dataframe tbody tr th {\n",
              "        vertical-align: top;\n",
              "    }\n",
              "\n",
              "    .dataframe thead th {\n",
              "        text-align: right;\n",
              "    }\n",
              "</style>\n",
              "<table border=\"1\" class=\"dataframe\">\n",
              "  <thead>\n",
              "    <tr style=\"text-align: right;\">\n",
              "      <th></th>\n",
              "      <th>ApplicantIncome</th>\n",
              "      <th>CoapplicantIncome</th>\n",
              "      <th>LoanAmount</th>\n",
              "      <th>Loan_Amount_Term</th>\n",
              "      <th>Credit_History</th>\n",
              "      <th>Gender_Male</th>\n",
              "      <th>Gender_Missing</th>\n",
              "      <th>Married_No</th>\n",
              "      <th>Married_Yes</th>\n",
              "      <th>Dependents_1</th>\n",
              "      <th>Dependents_2</th>\n",
              "      <th>Dependents_3+</th>\n",
              "      <th>Dependents_Missing</th>\n",
              "      <th>Education_Not Graduate</th>\n",
              "      <th>Self_Employed_No</th>\n",
              "      <th>Self_Employed_Yes</th>\n",
              "      <th>Property_Area_Semiurban</th>\n",
              "      <th>Property_Area_Urban</th>\n",
              "      <th>predicted</th>\n",
              "      <th>acutal</th>\n",
              "    </tr>\n",
              "  </thead>\n",
              "  <tbody>\n",
              "    <tr>\n",
              "      <th>52</th>\n",
              "      <td>4230</td>\n",
              "      <td>0.0</td>\n",
              "      <td>112.0</td>\n",
              "      <td>360.0</td>\n",
              "      <td>1.0</td>\n",
              "      <td>0</td>\n",
              "      <td>0</td>\n",
              "      <td>1</td>\n",
              "      <td>0</td>\n",
              "      <td>0</td>\n",
              "      <td>0</td>\n",
              "      <td>0</td>\n",
              "      <td>0</td>\n",
              "      <td>0</td>\n",
              "      <td>1</td>\n",
              "      <td>0</td>\n",
              "      <td>1</td>\n",
              "      <td>0</td>\n",
              "      <td>Y</td>\n",
              "      <td>N</td>\n",
              "    </tr>\n",
              "    <tr>\n",
              "      <th>24</th>\n",
              "      <td>3717</td>\n",
              "      <td>2925.0</td>\n",
              "      <td>151.0</td>\n",
              "      <td>360.0</td>\n",
              "      <td>-999.0</td>\n",
              "      <td>1</td>\n",
              "      <td>0</td>\n",
              "      <td>0</td>\n",
              "      <td>1</td>\n",
              "      <td>1</td>\n",
              "      <td>0</td>\n",
              "      <td>0</td>\n",
              "      <td>0</td>\n",
              "      <td>0</td>\n",
              "      <td>0</td>\n",
              "      <td>0</td>\n",
              "      <td>1</td>\n",
              "      <td>0</td>\n",
              "      <td>Y</td>\n",
              "      <td>N</td>\n",
              "    </tr>\n",
              "    <tr>\n",
              "      <th>319</th>\n",
              "      <td>10000</td>\n",
              "      <td>0.0</td>\n",
              "      <td>155.0</td>\n",
              "      <td>360.0</td>\n",
              "      <td>1.0</td>\n",
              "      <td>1</td>\n",
              "      <td>0</td>\n",
              "      <td>0</td>\n",
              "      <td>1</td>\n",
              "      <td>1</td>\n",
              "      <td>0</td>\n",
              "      <td>0</td>\n",
              "      <td>0</td>\n",
              "      <td>0</td>\n",
              "      <td>0</td>\n",
              "      <td>1</td>\n",
              "      <td>0</td>\n",
              "      <td>0</td>\n",
              "      <td>Y</td>\n",
              "      <td>N</td>\n",
              "    </tr>\n",
              "    <tr>\n",
              "      <th>18</th>\n",
              "      <td>4887</td>\n",
              "      <td>0.0</td>\n",
              "      <td>133.0</td>\n",
              "      <td>360.0</td>\n",
              "      <td>1.0</td>\n",
              "      <td>1</td>\n",
              "      <td>0</td>\n",
              "      <td>0</td>\n",
              "      <td>1</td>\n",
              "      <td>0</td>\n",
              "      <td>0</td>\n",
              "      <td>0</td>\n",
              "      <td>0</td>\n",
              "      <td>1</td>\n",
              "      <td>1</td>\n",
              "      <td>0</td>\n",
              "      <td>0</td>\n",
              "      <td>0</td>\n",
              "      <td>Y</td>\n",
              "      <td>N</td>\n",
              "    </tr>\n",
              "    <tr>\n",
              "      <th>416</th>\n",
              "      <td>2600</td>\n",
              "      <td>0.0</td>\n",
              "      <td>160.0</td>\n",
              "      <td>360.0</td>\n",
              "      <td>1.0</td>\n",
              "      <td>0</td>\n",
              "      <td>0</td>\n",
              "      <td>1</td>\n",
              "      <td>0</td>\n",
              "      <td>1</td>\n",
              "      <td>0</td>\n",
              "      <td>0</td>\n",
              "      <td>0</td>\n",
              "      <td>0</td>\n",
              "      <td>1</td>\n",
              "      <td>0</td>\n",
              "      <td>0</td>\n",
              "      <td>1</td>\n",
              "      <td>Y</td>\n",
              "      <td>N</td>\n",
              "    </tr>\n",
              "    <tr>\n",
              "      <th>503</th>\n",
              "      <td>4050</td>\n",
              "      <td>5302.0</td>\n",
              "      <td>138.0</td>\n",
              "      <td>360.0</td>\n",
              "      <td>-999.0</td>\n",
              "      <td>1</td>\n",
              "      <td>0</td>\n",
              "      <td>0</td>\n",
              "      <td>1</td>\n",
              "      <td>1</td>\n",
              "      <td>0</td>\n",
              "      <td>0</td>\n",
              "      <td>0</td>\n",
              "      <td>1</td>\n",
              "      <td>1</td>\n",
              "      <td>0</td>\n",
              "      <td>0</td>\n",
              "      <td>0</td>\n",
              "      <td>Y</td>\n",
              "      <td>N</td>\n",
              "    </tr>\n",
              "    <tr>\n",
              "      <th>469</th>\n",
              "      <td>4333</td>\n",
              "      <td>2451.0</td>\n",
              "      <td>110.0</td>\n",
              "      <td>360.0</td>\n",
              "      <td>1.0</td>\n",
              "      <td>1</td>\n",
              "      <td>0</td>\n",
              "      <td>0</td>\n",
              "      <td>1</td>\n",
              "      <td>0</td>\n",
              "      <td>0</td>\n",
              "      <td>0</td>\n",
              "      <td>0</td>\n",
              "      <td>0</td>\n",
              "      <td>1</td>\n",
              "      <td>0</td>\n",
              "      <td>0</td>\n",
              "      <td>1</td>\n",
              "      <td>Y</td>\n",
              "      <td>N</td>\n",
              "    </tr>\n",
              "    <tr>\n",
              "      <th>447</th>\n",
              "      <td>3539</td>\n",
              "      <td>1376.0</td>\n",
              "      <td>55.0</td>\n",
              "      <td>360.0</td>\n",
              "      <td>1.0</td>\n",
              "      <td>1</td>\n",
              "      <td>0</td>\n",
              "      <td>0</td>\n",
              "      <td>1</td>\n",
              "      <td>0</td>\n",
              "      <td>0</td>\n",
              "      <td>0</td>\n",
              "      <td>0</td>\n",
              "      <td>0</td>\n",
              "      <td>0</td>\n",
              "      <td>0</td>\n",
              "      <td>0</td>\n",
              "      <td>0</td>\n",
              "      <td>Y</td>\n",
              "      <td>N</td>\n",
              "    </tr>\n",
              "    <tr>\n",
              "      <th>489</th>\n",
              "      <td>2435</td>\n",
              "      <td>0.0</td>\n",
              "      <td>75.0</td>\n",
              "      <td>360.0</td>\n",
              "      <td>1.0</td>\n",
              "      <td>1</td>\n",
              "      <td>0</td>\n",
              "      <td>1</td>\n",
              "      <td>0</td>\n",
              "      <td>0</td>\n",
              "      <td>0</td>\n",
              "      <td>0</td>\n",
              "      <td>0</td>\n",
              "      <td>0</td>\n",
              "      <td>1</td>\n",
              "      <td>0</td>\n",
              "      <td>0</td>\n",
              "      <td>1</td>\n",
              "      <td>Y</td>\n",
              "      <td>N</td>\n",
              "    </tr>\n",
              "    <tr>\n",
              "      <th>191</th>\n",
              "      <td>12000</td>\n",
              "      <td>0.0</td>\n",
              "      <td>164.0</td>\n",
              "      <td>360.0</td>\n",
              "      <td>1.0</td>\n",
              "      <td>1</td>\n",
              "      <td>0</td>\n",
              "      <td>1</td>\n",
              "      <td>0</td>\n",
              "      <td>0</td>\n",
              "      <td>0</td>\n",
              "      <td>0</td>\n",
              "      <td>0</td>\n",
              "      <td>0</td>\n",
              "      <td>1</td>\n",
              "      <td>0</td>\n",
              "      <td>1</td>\n",
              "      <td>0</td>\n",
              "      <td>Y</td>\n",
              "      <td>N</td>\n",
              "    </tr>\n",
              "    <tr>\n",
              "      <th>65</th>\n",
              "      <td>5726</td>\n",
              "      <td>4595.0</td>\n",
              "      <td>258.0</td>\n",
              "      <td>360.0</td>\n",
              "      <td>1.0</td>\n",
              "      <td>1</td>\n",
              "      <td>0</td>\n",
              "      <td>0</td>\n",
              "      <td>1</td>\n",
              "      <td>0</td>\n",
              "      <td>0</td>\n",
              "      <td>0</td>\n",
              "      <td>0</td>\n",
              "      <td>0</td>\n",
              "      <td>1</td>\n",
              "      <td>0</td>\n",
              "      <td>1</td>\n",
              "      <td>0</td>\n",
              "      <td>Y</td>\n",
              "      <td>N</td>\n",
              "    </tr>\n",
              "    <tr>\n",
              "      <th>245</th>\n",
              "      <td>6050</td>\n",
              "      <td>4333.0</td>\n",
              "      <td>120.0</td>\n",
              "      <td>180.0</td>\n",
              "      <td>1.0</td>\n",
              "      <td>1</td>\n",
              "      <td>0</td>\n",
              "      <td>1</td>\n",
              "      <td>0</td>\n",
              "      <td>0</td>\n",
              "      <td>0</td>\n",
              "      <td>0</td>\n",
              "      <td>0</td>\n",
              "      <td>0</td>\n",
              "      <td>0</td>\n",
              "      <td>1</td>\n",
              "      <td>0</td>\n",
              "      <td>1</td>\n",
              "      <td>Y</td>\n",
              "      <td>N</td>\n",
              "    </tr>\n",
              "    <tr>\n",
              "      <th>410</th>\n",
              "      <td>3867</td>\n",
              "      <td>0.0</td>\n",
              "      <td>62.0</td>\n",
              "      <td>360.0</td>\n",
              "      <td>1.0</td>\n",
              "      <td>0</td>\n",
              "      <td>0</td>\n",
              "      <td>1</td>\n",
              "      <td>0</td>\n",
              "      <td>1</td>\n",
              "      <td>0</td>\n",
              "      <td>0</td>\n",
              "      <td>0</td>\n",
              "      <td>1</td>\n",
              "      <td>0</td>\n",
              "      <td>1</td>\n",
              "      <td>1</td>\n",
              "      <td>0</td>\n",
              "      <td>Y</td>\n",
              "      <td>N</td>\n",
              "    </tr>\n",
              "    <tr>\n",
              "      <th>600</th>\n",
              "      <td>416</td>\n",
              "      <td>41667.0</td>\n",
              "      <td>350.0</td>\n",
              "      <td>180.0</td>\n",
              "      <td>-999.0</td>\n",
              "      <td>0</td>\n",
              "      <td>0</td>\n",
              "      <td>1</td>\n",
              "      <td>0</td>\n",
              "      <td>0</td>\n",
              "      <td>0</td>\n",
              "      <td>1</td>\n",
              "      <td>0</td>\n",
              "      <td>0</td>\n",
              "      <td>0</td>\n",
              "      <td>0</td>\n",
              "      <td>0</td>\n",
              "      <td>1</td>\n",
              "      <td>Y</td>\n",
              "      <td>N</td>\n",
              "    </tr>\n",
              "    <tr>\n",
              "      <th>585</th>\n",
              "      <td>4283</td>\n",
              "      <td>3000.0</td>\n",
              "      <td>172.0</td>\n",
              "      <td>84.0</td>\n",
              "      <td>1.0</td>\n",
              "      <td>1</td>\n",
              "      <td>0</td>\n",
              "      <td>0</td>\n",
              "      <td>1</td>\n",
              "      <td>1</td>\n",
              "      <td>0</td>\n",
              "      <td>0</td>\n",
              "      <td>0</td>\n",
              "      <td>0</td>\n",
              "      <td>1</td>\n",
              "      <td>0</td>\n",
              "      <td>0</td>\n",
              "      <td>0</td>\n",
              "      <td>Y</td>\n",
              "      <td>N</td>\n",
              "    </tr>\n",
              "    <tr>\n",
              "      <th>225</th>\n",
              "      <td>3250</td>\n",
              "      <td>0.0</td>\n",
              "      <td>170.0</td>\n",
              "      <td>360.0</td>\n",
              "      <td>1.0</td>\n",
              "      <td>1</td>\n",
              "      <td>0</td>\n",
              "      <td>0</td>\n",
              "      <td>1</td>\n",
              "      <td>0</td>\n",
              "      <td>0</td>\n",
              "      <td>0</td>\n",
              "      <td>0</td>\n",
              "      <td>0</td>\n",
              "      <td>1</td>\n",
              "      <td>0</td>\n",
              "      <td>0</td>\n",
              "      <td>0</td>\n",
              "      <td>Y</td>\n",
              "      <td>N</td>\n",
              "    </tr>\n",
              "    <tr>\n",
              "      <th>139</th>\n",
              "      <td>4200</td>\n",
              "      <td>1430.0</td>\n",
              "      <td>129.0</td>\n",
              "      <td>360.0</td>\n",
              "      <td>1.0</td>\n",
              "      <td>1</td>\n",
              "      <td>0</td>\n",
              "      <td>0</td>\n",
              "      <td>1</td>\n",
              "      <td>0</td>\n",
              "      <td>1</td>\n",
              "      <td>0</td>\n",
              "      <td>0</td>\n",
              "      <td>1</td>\n",
              "      <td>1</td>\n",
              "      <td>0</td>\n",
              "      <td>0</td>\n",
              "      <td>0</td>\n",
              "      <td>Y</td>\n",
              "      <td>N</td>\n",
              "    </tr>\n",
              "    <tr>\n",
              "      <th>95</th>\n",
              "      <td>6782</td>\n",
              "      <td>0.0</td>\n",
              "      <td>-999.0</td>\n",
              "      <td>360.0</td>\n",
              "      <td>-999.0</td>\n",
              "      <td>1</td>\n",
              "      <td>0</td>\n",
              "      <td>1</td>\n",
              "      <td>0</td>\n",
              "      <td>0</td>\n",
              "      <td>0</td>\n",
              "      <td>0</td>\n",
              "      <td>0</td>\n",
              "      <td>0</td>\n",
              "      <td>0</td>\n",
              "      <td>0</td>\n",
              "      <td>0</td>\n",
              "      <td>1</td>\n",
              "      <td>Y</td>\n",
              "      <td>N</td>\n",
              "    </tr>\n",
              "    <tr>\n",
              "      <th>286</th>\n",
              "      <td>2600</td>\n",
              "      <td>1717.0</td>\n",
              "      <td>99.0</td>\n",
              "      <td>300.0</td>\n",
              "      <td>1.0</td>\n",
              "      <td>0</td>\n",
              "      <td>0</td>\n",
              "      <td>1</td>\n",
              "      <td>0</td>\n",
              "      <td>0</td>\n",
              "      <td>0</td>\n",
              "      <td>0</td>\n",
              "      <td>0</td>\n",
              "      <td>0</td>\n",
              "      <td>0</td>\n",
              "      <td>1</td>\n",
              "      <td>1</td>\n",
              "      <td>0</td>\n",
              "      <td>Y</td>\n",
              "      <td>N</td>\n",
              "    </tr>\n",
              "  </tbody>\n",
              "</table>\n",
              "</div>"
            ],
            "text/plain": [
              "     ApplicantIncome  CoapplicantIncome  ...  predicted  acutal\n",
              "52              4230                0.0  ...          Y       N\n",
              "24              3717             2925.0  ...          Y       N\n",
              "319            10000                0.0  ...          Y       N\n",
              "18              4887                0.0  ...          Y       N\n",
              "416             2600                0.0  ...          Y       N\n",
              "503             4050             5302.0  ...          Y       N\n",
              "469             4333             2451.0  ...          Y       N\n",
              "447             3539             1376.0  ...          Y       N\n",
              "489             2435                0.0  ...          Y       N\n",
              "191            12000                0.0  ...          Y       N\n",
              "65              5726             4595.0  ...          Y       N\n",
              "245             6050             4333.0  ...          Y       N\n",
              "410             3867                0.0  ...          Y       N\n",
              "600              416            41667.0  ...          Y       N\n",
              "585             4283             3000.0  ...          Y       N\n",
              "225             3250                0.0  ...          Y       N\n",
              "139             4200             1430.0  ...          Y       N\n",
              "95              6782                0.0  ...          Y       N\n",
              "286             2600             1717.0  ...          Y       N\n",
              "\n",
              "[19 rows x 20 columns]"
            ]
          },
          "metadata": {
            "tags": []
          },
          "execution_count": 232
        }
      ]
    },
    {
      "cell_type": "code",
      "metadata": {
        "id": "E-P5jIwzgjjz",
        "colab_type": "code",
        "outputId": "33fb0f44-571c-4e31-ab9f-0c95a3520566",
        "colab": {
          "base_uri": "https://localhost:8080/",
          "height": 85
        }
      },
      "source": [
        "xg.feature_importances_"
      ],
      "execution_count": 0,
      "outputs": [
        {
          "output_type": "execute_result",
          "data": {
            "text/plain": [
              "array([0.06204415, 0.05954689, 0.05607348, 0.060676  , 0.372506  ,\n",
              "       0.043451  , 0.        , 0.07113596, 0.        , 0.0499041 ,\n",
              "       0.03116252, 0.03028117, 0.        , 0.07550925, 0.02132848,\n",
              "       0.        , 0.06366228, 0.00271875], dtype=float32)"
            ]
          },
          "metadata": {
            "tags": []
          },
          "execution_count": 233
        }
      ]
    },
    {
      "cell_type": "code",
      "metadata": {
        "id": "S5-bjYyqiHV2",
        "colab_type": "code",
        "outputId": "bcb965b1-5399-46fe-f211-d90cc8a12312",
        "colab": {
          "base_uri": "https://localhost:8080/",
          "height": 537
        }
      },
      "source": [
        "plt.figure(figsize=(12,9))\n",
        "plt.barh(X_train.columns,xg.feature_importances_)\n",
        "plt.show()"
      ],
      "execution_count": 0,
      "outputs": [
        {
          "output_type": "display_data",
          "data": {
            "image/png": "[encoded data removed]",
            "text/plain": [
              "<Figure size 864x648 with 1 Axes>"
            ]
          },
          "metadata": {
            "tags": [],
            "needs_background": "light"
          }
        }
      ]
    },
    {
      "cell_type": "markdown",
      "metadata": {
        "id": "4ZFAfaB8liJS",
        "colab_type": "text"
      },
      "source": [
        "## Hyperparameter Tuning"
      ]
    },
    {
      "cell_type": "code",
      "metadata": {
        "id": "khnw72n2iVE5",
        "colab_type": "code",
        "outputId": "a636c5c3-4db3-4c72-d1e4-d54a7fde5d85",
        "colab": {
          "base_uri": "https://localhost:8080/",
          "height": 408
        }
      },
      "source": [
        "xg.get_params()"
      ],
      "execution_count": 0,
      "outputs": [
        {
          "output_type": "execute_result",
          "data": {
            "text/plain": [
              "{'base_score': 0.5,\n",
              " 'booster': 'gbtree',\n",
              " 'colsample_bylevel': 1,\n",
              " 'colsample_bynode': 1,\n",
              " 'colsample_bytree': 1,\n",
              " 'gamma': 0,\n",
              " 'learning_rate': 0.1,\n",
              " 'max_delta_step': 0,\n",
              " 'max_depth': 3,\n",
              " 'min_child_weight': 1,\n",
              " 'missing': None,\n",
              " 'n_estimators': 100,\n",
              " 'n_jobs': 1,\n",
              " 'nthread': None,\n",
              " 'objective': 'binary:logistic',\n",
              " 'random_state': 42,\n",
              " 'reg_alpha': 0,\n",
              " 'reg_lambda': 1,\n",
              " 'scale_pos_weight': 1,\n",
              " 'seed': None,\n",
              " 'silent': None,\n",
              " 'subsample': 1,\n",
              " 'verbosity': 1}"
            ]
          },
          "metadata": {
            "tags": []
          },
          "execution_count": 236
        }
      ]
    },
    {
      "cell_type": "code",
      "metadata": {
        "id": "UM3WqPJCmK-A",
        "colab_type": "code",
        "colab": {}
      },
      "source": [
        "xg_params={\n",
        "    \"learning_rate\":[0.01,0.015,0.025,0.05,0.1],\n",
        "    \"gamma\":[0.05,0.1,0.3,0.5,0.7,0.9,1.0],\n",
        "    \"max_depth\":[3,5,7,9,12,15,17],\n",
        "    \"min_child_weight\":[1,3,5,7],\n",
        "    \"subsample\":[0.6,0.7,0.8,0.9,1.0],\n",
        "    \"colsample_bytree\":[0.6,0.7,0.8,0.9,1.0],\n",
        "    \"reg_alpha\":[0,0.01,0.1,1.0],\n",
        "    \"reg_lambda\":[0.01,0.1,1.0]\n",
        "}"
      ],
      "execution_count": 0,
      "outputs": []
    },
    {
      "cell_type": "code",
      "metadata": {
        "id": "qaOjrsH1nA_q",
        "colab_type": "code",
        "outputId": "2d6dad4a-5cfa-4db1-f3a7-6dba8c239049",
        "colab": {
          "base_uri": "https://localhost:8080/",
          "height": 442
        }
      },
      "source": [
        "xg_random=RandomizedSearchCV(xg,param_distributions=xg_params,n_iter=25,cv=10,n_jobs=-1,random_state=42)\n",
        "xg_random.fit(X_train,y_train)"
      ],
      "execution_count": 0,
      "outputs": [
        {
          "output_type": "execute_result",
          "data": {
            "text/plain": [
              "RandomizedSearchCV(cv=10, error_score=nan,\n",
              "                   estimator=XGBClassifier(base_score=0.5, booster='gbtree',\n",
              "                                           colsample_bylevel=1,\n",
              "                                           colsample_bynode=1,\n",
              "                                           colsample_bytree=1, gamma=0,\n",
              "                                           learning_rate=0.1, max_delta_step=0,\n",
              "                                           max_depth=3, min_child_weight=1,\n",
              "                                           missing=None, n_estimators=100,\n",
              "                                           n_jobs=1, nthread=None,\n",
              "                                           objective='binary:logistic',\n",
              "                                           random_state=42, reg_alpha=0,\n",
              "                                           reg_lambda=1,...\n",
              "                   param_distributions={'colsample_bytree': [0.6, 0.7, 0.8, 0.9,\n",
              "                                                             1.0],\n",
              "                                        'gamma': [0.05, 0.1, 0.3, 0.5, 0.7, 0.9,\n",
              "                                                  1.0],\n",
              "                                        'learning_rate': [0.01, 0.015, 0.025,\n",
              "                                                          0.05, 0.1],\n",
              "                                        'max_depth': [3, 5, 7, 9, 12, 15, 17],\n",
              "                                        'min_child_weight': [1, 3, 5, 7],\n",
              "                                        'reg_alpha': [0, 0.01, 0.1, 1.0],\n",
              "                                        'reg_lambda': [0.01, 0.1, 1.0],\n",
              "                                        'subsample': [0.6, 0.7, 0.8, 0.9, 1.0]},\n",
              "                   pre_dispatch='2*n_jobs', random_state=42, refit=True,\n",
              "                   return_train_score=False, scoring=None, verbose=0)"
            ]
          },
          "metadata": {
            "tags": []
          },
          "execution_count": 239
        }
      ]
    },
    {
      "cell_type": "code",
      "metadata": {
        "id": "6IEJ3NyznSvO",
        "colab_type": "code",
        "outputId": "9fcc6c4a-f611-4a6a-f162-a1e1bfa39394",
        "colab": {
          "base_uri": "https://localhost:8080/",
          "height": 153
        }
      },
      "source": [
        "xg_random.best_params_"
      ],
      "execution_count": 0,
      "outputs": [
        {
          "output_type": "execute_result",
          "data": {
            "text/plain": [
              "{'colsample_bytree': 0.9,\n",
              " 'gamma': 0.7,\n",
              " 'learning_rate': 0.025,\n",
              " 'max_depth': 9,\n",
              " 'min_child_weight': 3,\n",
              " 'reg_alpha': 0.1,\n",
              " 'reg_lambda': 0.1,\n",
              " 'subsample': 0.7}"
            ]
          },
          "metadata": {
            "tags": []
          },
          "execution_count": 240
        }
      ]
    },
    {
      "cell_type": "code",
      "metadata": {
        "id": "_YSzlvmrncNk",
        "colab_type": "code",
        "outputId": "3be0eafe-037c-4f70-cb1e-beb78b8c9b47",
        "colab": {
          "base_uri": "https://localhost:8080/",
          "height": 34
        }
      },
      "source": [
        "xg_random.best_score_"
      ],
      "execution_count": 0,
      "outputs": [
        {
          "output_type": "execute_result",
          "data": {
            "text/plain": [
              "0.8104897959183675"
            ]
          },
          "metadata": {
            "tags": []
          },
          "execution_count": 241
        }
      ]
    },
    {
      "cell_type": "code",
      "metadata": {
        "id": "ZBgaZgCUnkaY",
        "colab_type": "code",
        "colab": {}
      },
      "source": [
        "test_preds=xg_random.best_estimator_.predict(test_X)\n",
        "\n",
        "sub['Loan_Status']=test_preds\n",
        "sub.to_csv('xg_randomSearch.csv',index=False)"
      ],
      "execution_count": 0,
      "outputs": []
    },
    {
      "cell_type": "code",
      "metadata": {
        "id": "ahlO3FEBn0Jm",
        "colab_type": "code",
        "colab": {}
      },
      "source": [
        ""
      ],
      "execution_count": 0,
      "outputs": []
    }
  ]
}